{
 "cells": [
  {
   "cell_type": "code",
   "execution_count": 5,
   "metadata": {},
   "outputs": [
    {
     "name": "stdout",
     "output_type": "stream",
     "text": [
      "/Users/praneithranganath/Documents/GitHub/Brain-Tumor-Classification\n"
     ]
    }
   ],
   "source": [
    "cd /Users/praneithranganath/Documents/GitHub/Brain-Tumor-Classification/"
   ]
  },
  {
   "cell_type": "code",
   "execution_count": 15,
   "metadata": {},
   "outputs": [
    {
     "ename": "IndentationError",
     "evalue": "expected an indented block after 'except' statement on line 69 (1626121443.py, line 72)",
     "output_type": "error",
     "traceback": [
      "\u001b[0;36m  Cell \u001b[0;32mIn[15], line 72\u001b[0;36m\u001b[0m\n\u001b[0;31m    histograms.extend(valid_histograms)\u001b[0m\n\u001b[0m    ^\u001b[0m\n\u001b[0;31mIndentationError\u001b[0m\u001b[0;31m:\u001b[0m expected an indented block after 'except' statement on line 69\n"
     ]
    }
   ],
   "source": [
    "import cv2\n",
    "import pickle\n",
    "import os\n",
    "import glob\n",
    "from logger import setup_logging\n",
    "import numpy as np\n",
    "from scipy.stats import pearsonr\n",
    "from google.cloud import storage\n",
    "\n",
    "# Replace with your GCS bucket name\n",
    "BUCKET_NAME = \"data-source-brain-tumor-classification\"\n",
    "HISTOGRAMS_FILE = 'validation/histograms.pkl'\n",
    "keyfile_path = './keys/tensile-topic-424308-d9-7418db5a1c90.json' \n",
    "os.environ['GOOGLE_APPLICATION_CREDENTIALS'] = keyfile_path\n",
    "\n",
    "def upload_to_gcs(bucket_name, destination_blob_name, source_file_name):\n",
    "    \"\"\"Uploads a file to the bucket.\"\"\"\n",
    "    storage_client = storage.Client()\n",
    "    bucket = storage_client.bucket(bucket_name)\n",
    "    blob = bucket.blob(destination_blob_name)\n",
    "\n",
    "    blob.upload_from_filename(source_file_name)\n",
    "\n",
    "    print(f\"File {source_file_name} uploaded to {destination_blob_name}.\")\n",
    "\n",
    "def download_from_gcs(bucket_name, source_blob_name, destination_file_name):\n",
    "    \"\"\"Downloads a blob from the bucket.\"\"\"\n",
    "    storage_client = storage.Client()\n",
    "    bucket = storage_client.bucket(bucket_name)\n",
    "    blob = bucket.blob(source_blob_name)\n",
    "\n",
    "    blob.download_to_filename(destination_file_name)\n",
    "\n",
    "    print(f\"Blob {source_blob_name} downloaded to {destination_file_name}.\")\n",
    "\n",
    "def capture_histograms():\n",
    "    #logger = setup_logging()\n",
    "    #logger.info(\"Started method: capture_histograms\")\n",
    "\n",
    "    base_dir = './data/Training/'\n",
    "    classes = ['glioma', 'meningioma', 'notumor', 'pituitary']\n",
    "    \n",
    "    histograms = []\n",
    "\n",
    "    for cls in classes:\n",
    "        folder_path = os.path.join(base_dir, cls)\n",
    "        image_paths = glob.glob(os.path.join(folder_path, '*.jpg'))\n",
    "        \n",
    "        if image_paths:\n",
    "            first_image_path = image_paths[0]\n",
    "            try:\n",
    "                first_image = cv2.imread(first_image_path)\n",
    "                gray_first_image = cv2.cvtColor(first_image, cv2.COLOR_BGR2GRAY)\n",
    "                hist_first_image = cv2.calcHist([gray_first_image], [0], None, [256], [0, 256])\n",
    "\n",
    "                valid_histograms = [hist_first_image]\n",
    "\n",
    "                for image_path in image_paths[1:]:\n",
    "                    try:\n",
    "                        load_image = cv2.imread(image_path)\n",
    "                        gray_image = cv2.cvtColor(load_image, cv2.COLOR_BGR2GRAY)\n",
    "                        hist_image = cv2.calcHist([gray_image], [0], None, [256], [0, 256])\n",
    "\n",
    "                        correlation = pearsonr(hist_first_image.flatten(), hist_image.flatten())[0]\n",
    "\n",
    "                        if correlation > 0.7:\n",
    "                            valid_histograms.append(hist_image)\n",
    "\n",
    "                    except Exception as e:\n",
    "                        #logger.info(f\"Error processing image {image_path}: {e}\")\n",
    "\n",
    "                histograms.extend(valid_histograms)\n",
    "                #logger.info(f\"Captured {len(valid_histograms)} histograms for class {cls}\")\n",
    "\n",
    "            except Exception as e:\n",
    "                print(\"hihi\")\n",
    "                #logger.info(f\"Error processing images in folder {folder_path}: {e}\")\n",
    "        else:\n",
    "            #logger.info(f\"No images found in directory: {folder_path}\")\n",
    "            return False\n",
    "    \n",
    "    #logger.info(\"Finished capturing histograms\")\n",
    "\n",
    "    try:\n",
    "        local_histogram_path = './src/histograms.pkl'\n",
    "        with open(local_histogram_path, 'wb') as f:\n",
    "            pickle.dump(histograms, f)\n",
    "        #logger.info(\"Histogram data saved locally to histograms.pkl\")\n",
    "\n",
    "        upload_to_gcs(BUCKET_NAME, HISTOGRAMS_FILE, local_histogram_path)\n",
    "        #logger.info(\"Histogram data uploaded to GCS\")\n",
    "\n",
    "    except Exception as e:\n",
    "        #logger.info(f\"Error saving histogram data: {e}\")\n",
    "        return False\n",
    "    \n",
    "    #logger.info(\"Finished method: capture_histograms\")\n",
    "    return True\n",
    "\n",
    "def validate_image(image):\n",
    "    logger = setup_logging()\n",
    "    logger.info(\"Started method: validate_image\")\n",
    "\n",
    "    local_histogram_path = './src/histograms.pkl'\n",
    "\n",
    "    try:\n",
    "        download_from_gcs(BUCKET_NAME, HISTOGRAMS_FILE, local_histogram_path)\n",
    "        with open(local_histogram_path, 'rb') as f:\n",
    "            histograms = pickle.load(f)\n",
    "        logger.info(\"Loaded histograms from histograms.pkl\")\n",
    "    except Exception as e:\n",
    "        logger.exception(f\"Failed to load histograms: {e}\")\n",
    "        return False\n",
    "    \n",
    "    load_image = cv2.imread(image)\n",
    "    gray_image = cv2.cvtColor(load_image, cv2.COLOR_BGR2GRAY)\n",
    "    histogram = cv2.calcHist([gray_image], [0], None, [256], [0, 256])\n",
    "\n",
    "    for hist in histograms:\n",
    "        correlation = cv2.compareHist(histogram, hist, cv2.HISTCMP_CORREL)\n",
    "        logger.info(f\"Image {image} has a reference histogram with correlation: {correlation:.4f}\")\n",
    "        if correlation > 0.7:\n",
    "            return True\n",
    "\n",
    "    logger.info(\"Finished method: validate_image\")   \n",
    "    return False\n",
    "\n"
   ]
  },
  {
   "cell_type": "code",
   "execution_count": 12,
   "metadata": {},
   "outputs": [
    {
     "data": {
      "text/plain": [
       "False"
      ]
     },
     "execution_count": 12,
     "metadata": {},
     "output_type": "execute_result"
    }
   ],
   "source": [
    "capture_histograms()"
   ]
  },
  {
   "cell_type": "code",
   "execution_count": 8,
   "metadata": {},
   "outputs": [
    {
     "name": "stdout",
     "output_type": "stream",
     "text": [
      "Collecting opencv-python\n",
      "  Using cached opencv_python-4.10.0.84-cp37-abi3-macosx_11_0_arm64.whl.metadata (20 kB)\n",
      "Requirement already satisfied: numpy>=1.21.2 in /opt/anaconda3/lib/python3.11/site-packages (from opencv-python) (1.26.4)\n",
      "Using cached opencv_python-4.10.0.84-cp37-abi3-macosx_11_0_arm64.whl (54.8 MB)\n",
      "Installing collected packages: opencv-python\n",
      "Successfully installed opencv-python-4.10.0.84\n",
      "Note: you may need to restart the kernel to use updated packages.\n"
     ]
    }
   ],
   "source": [
    "pip install opencv-python"
   ]
  },
  {
   "cell_type": "code",
   "execution_count": 10,
   "metadata": {},
   "outputs": [
    {
     "name": "stdout",
     "output_type": "stream",
     "text": [
      "Captured 953 histograms for class glioma\n",
      "Captured 899 histograms for class meningioma\n",
      "Captured 10 histograms for class notumor\n",
      "Captured 355 histograms for class pituitary\n",
      "Finished capturing histograms\n",
      "Histogram data saved successfully to histograms.pkl\n",
      "Finished method: capture_histograms\n"
     ]
    },
    {
     "data": {
      "text/plain": [
       "True"
      ]
     },
     "execution_count": 10,
     "metadata": {},
     "output_type": "execute_result"
    }
   ],
   "source": [
    "capture_histograms()"
   ]
  },
  {
   "cell_type": "code",
   "execution_count": 9,
   "metadata": {},
   "outputs": [],
   "source": [
    "import os\n",
    "import glob\n",
    "import cv2\n",
    "import pickle\n",
    "import numpy as np\n",
    "from scipy.stats import pearsonr\n",
    "\n",
    "def capture_histograms():\n",
    "\n",
    "    base_dir = './data/Training/'\n",
    "    classes = ['glioma', 'meningioma', 'notumor', 'pituitary']\n",
    "    \n",
    "    histograms = []\n",
    "\n",
    "    for cls in classes:\n",
    "        folder_path = os.path.join(base_dir, cls)\n",
    "        image_paths = glob.glob(os.path.join(folder_path, '*.jpg'))\n",
    "        \n",
    "        if image_paths:\n",
    "            first_image_path = image_paths[0]\n",
    "            try:\n",
    "                first_image = cv2.imread(first_image_path)\n",
    "                gray_first_image = cv2.cvtColor(first_image, cv2.COLOR_BGR2GRAY)\n",
    "                hist_first_image = cv2.calcHist([gray_first_image], [0], None, [256], [0, 256])\n",
    "\n",
    "                valid_histograms = [hist_first_image]\n",
    "\n",
    "                for image_path in image_paths[1:]:\n",
    "                    try:\n",
    "                        load_image = cv2.imread(image_path)\n",
    "                        gray_image = cv2.cvtColor(load_image, cv2.COLOR_BGR2GRAY)\n",
    "                        hist_image = cv2.calcHist([gray_image], [0], None, [256], [0, 256])\n",
    "\n",
    "                        correlation = pearsonr(hist_first_image.flatten(), hist_image.flatten())[0]\n",
    "\n",
    "                        if correlation > 0.7:\n",
    "                            valid_histograms.append(hist_image)\n",
    "\n",
    "                    except Exception as e:\n",
    "                        print(f\"Error processing image {image_path}: {e}\")\n",
    "\n",
    "                histograms.extend(valid_histograms)\n",
    "                print(f\"Captured {len(valid_histograms)} histograms for class {cls}\")\n",
    "\n",
    "            except Exception as e:\n",
    "                print(f\"Error processing images in folder {folder_path}: {e}\")\n",
    "        else:\n",
    "            print(f\"No images found in directory: {folder_path}\")\n",
    "            return False\n",
    "    \n",
    "    print(\"Finished capturing histograms\")\n",
    "\n",
    "    try:\n",
    "        with open('./src/histograms.pkl', 'wb') as f:\n",
    "            pickle.dump(histograms, f)\n",
    "        print(\"Histogram data saved successfully to histograms.pkl\")\n",
    "    except Exception as e:\n",
    "        print(f\"Error saving histogram data: {e}\")\n",
    "        return False\n",
    "    \n",
    "    print(\"Finished method: capture_histograms\")\n",
    "    return True\n"
   ]
  },
  {
   "cell_type": "code",
   "execution_count": 5,
   "metadata": {},
   "outputs": [
    {
     "name": "stdout",
     "output_type": "stream",
     "text": [
      "Path found : /Users/praneithranganath/Documents/M2U/tensile-topic-424308-d9-17a256b9b21c.json\n",
      "TensorFlow with Metal enabled.\n"
     ]
    }
   ],
   "source": [
    "import mlflow.types\n",
    "import tensorflow as tf\n",
    "from tensorflow.keras.models import Sequential\n",
    "from tensorflow.keras.layers import Conv2D, MaxPooling2D, Dense, Dropout, Flatten\n",
    "from tensorflow.keras.optimizers import Adam\n",
    "import keras_tuner as kt\n",
    "from tensorflow.keras.preprocessing.image import ImageDataGenerator\n",
    "import mlflow.types.schema as schema\n",
    "from mlflow.types.schema import Schema, ColSpec\n",
    "import os\n",
    "import mlflow\n",
    "import numpy as np\n",
    "\n",
    "\n",
    "keyfile_path = '/Users/praneithranganath/Documents/M2U/tensile-topic-424308-d9-17a256b9b21c.json'  # change as per your keyfile path\n",
    "\n",
    "# Checking if file exists\n",
    "if not os.path.exists(keyfile_path):\n",
    "    raise FileNotFoundError(f\"The file '{keyfile_path}' does not exist. Please check the path.\")\n",
    "else:\n",
    "    print(f'Path found : {keyfile_path}')\n",
    "\n",
    "# Set the environment variable to point to the service account key file\n",
    "os.environ['GOOGLE_APPLICATION_CREDENTIALS'] = keyfile_path\n",
    "os.environ['MLFLOW_GCS_BUCKET'] = 'ml-flow-remote-tracker-bucket'\n",
    "\n",
    "mlflow.set_tracking_uri(\"http://35.231.231.140:5000/\")\n",
    "mlflow.set_experiment(\"Brain-Tumor-Classification\")\n",
    "\n",
    "# Enable TensorFlow with Metal on macOS\n",
    "physical_devices = tf.config.list_physical_devices('GPU')\n",
    "if physical_devices:\n",
    "    try:\n",
    "        tf.config.experimental.set_memory_growth(physical_devices[0], True)\n",
    "        print(\"TensorFlow with Metal enabled.\")\n",
    "    except RuntimeError as e:\n",
    "        print(e)\n",
    "\n",
    "# # Configure TensorFlow to use all available CPU cores\n",
    "# num_cores = len(tf.config.experimental.list_physical_devices('CPU'))\n",
    "# print(f'Number of available CPU cores: {num_cores}')\n",
    "# tf.config.threading.set_inter_op_parallelism_threads(3)\n",
    "# tf.config.threading.set_intra_op_parallelism_threads(3)\n",
    "\n",
    "def preprocessing_for_training():\n",
    "    path = 'data/Training/'\n",
    "    train_datagen = ImageDataGenerator(\n",
    "        rescale=1.0/255,\n",
    "        rotation_range=10,\n",
    "        width_shift_range=0.1,\n",
    "        height_shift_range=0.1,\n",
    "        shear_range=0.1,\n",
    "        zoom_range=0.1,\n",
    "        horizontal_flip=True,\n",
    "        fill_mode='nearest'\n",
    "    )\n",
    "    train_generator = train_datagen.flow_from_directory(\n",
    "        path,\n",
    "        target_size=(224, 224),\n",
    "        batch_size=32,\n",
    "        class_mode='categorical',\n",
    "        shuffle=True,\n",
    "        seed=42\n",
    "    )\n",
    "    return train_generator\n",
    "\n",
    "def preprocessing_for_testing_inference(batchSize):\n",
    "    path = 'data/Testing/'\n",
    "    test_val_datagen = ImageDataGenerator(rescale=1.0/255)\n",
    "    test_generator = test_val_datagen.flow_from_directory(\n",
    "        path,\n",
    "        target_size=(224, 224),\n",
    "        batch_size=batchSize,\n",
    "        class_mode='categorical',\n",
    "        shuffle=False\n",
    "    )\n",
    "    return test_generator\n",
    "\n",
    "def build_model(hp):\n",
    "    with mlflow.start_run(nested=True): \n",
    "        model = Sequential()\n",
    "        model.add(tf.keras.layers.Input(shape=(224, 224, 3)))  # Correctly initialize the input shape\n",
    "\n",
    "        for i in range(1, 3):\n",
    "            filters = hp.Int(f'conv_{i}_filters', min_value=32, max_value=256, step=32)\n",
    "            model.add(Conv2D(\n",
    "                filters=filters,\n",
    "                kernel_size=(3, 3),\n",
    "                activation='relu',\n",
    "                padding='same'\n",
    "            ))\n",
    "            mlflow.log_param(f'conv_{i}_filters', filters)\n",
    "            model.add(MaxPooling2D(pool_size=(2, 2)))\n",
    "\n",
    "        model.add(Flatten())\n",
    "\n",
    "        num_dense_layers = hp.Int('num_dense_layers', 1, 3)\n",
    "        mlflow.log_param('num_dense_layers', num_dense_layers)\n",
    "\n",
    "        for i in range(num_dense_layers):\n",
    "            units = hp.Int(f'dense_{i}_units', min_value=128, max_value=512, step=128)\n",
    "            model.add(Dense(units=units, activation='relu'))\n",
    "            mlflow.log_param(f'dense_{i}_units', units)\n",
    "            if hp.Boolean(f'dropout_{i}'):\n",
    "                dropout_rate = hp.Float(f'dropout_{i}_rate', min_value=0.2, max_value=0.5, step=0.1)\n",
    "                model.add(Dropout(rate=dropout_rate))\n",
    "                mlflow.log_param(f'dropout_{i}_rate', dropout_rate)\n",
    "\n",
    "        model.add(Dense(4, activation='softmax'))\n",
    "\n",
    "        learning_rate = hp.Float('learning_rate', min_value=1e-4, max_value=1e-2, sampling='LOG')\n",
    "        model.compile(\n",
    "            optimizer=Adam(learning_rate=learning_rate),\n",
    "            loss='categorical_crossentropy',\n",
    "            metrics=['accuracy']\n",
    "        )\n",
    "        mlflow.log_param('learning_rate', learning_rate)\n",
    "\n",
    "        return model\n",
    "\n",
    "def ready_model():\n",
    "    num_classes = 4\n",
    "    img_shape = (224, 224, 3)\n",
    "\n",
    "    with mlflow.start_run():\n",
    "        \n",
    "        # Create the model\n",
    "        model = Sequential([\n",
    "            Conv2D(64, (3, 3), activation=\"relu\", padding=\"same\", input_shape=img_shape),\n",
    "            MaxPooling2D(pool_size=(2, 2)),\n",
    "\n",
    "            Conv2D(64, (3, 3), activation=\"relu\", padding=\"same\"),\n",
    "            MaxPooling2D(pool_size=(2, 2)),\n",
    "\n",
    "            Conv2D(128, (3, 3), activation=\"relu\", padding=\"same\"),\n",
    "            MaxPooling2D(pool_size=(2, 2)),\n",
    "\n",
    "            Conv2D(128, (3, 3), activation=\"relu\", padding=\"same\"),\n",
    "            MaxPooling2D(pool_size=(2, 2)),\n",
    "            Flatten(),\n",
    "\n",
    "            Dense(512, activation=\"relu\"),\n",
    "            Dense(num_classes, activation=\"softmax\")\n",
    "        ])\n",
    "\n",
    "        # Log the model summary\n",
    "        model.summary(print_fn=lambda x: mlflow.log_text(x, \"model_summary.txt\"))\n",
    "\n",
    "        # Log the model configuration\n",
    "        mlflow.log_param(\"model_type\", \"Sequential\")\n",
    "        mlflow.log_param(\"num_classes\", num_classes)\n",
    "        mlflow.log_param(\"img_shape\", img_shape)\n",
    "\n",
    "        optimizer = Adam(learning_rate=0.001, beta_1=0.85, beta_2=0.9925)\n",
    "        model.compile(optimizer=optimizer, loss='categorical_crossentropy', metrics=['accuracy', 'recall'])\n",
    "\n",
    "        # Log the optimizer configuration\n",
    "        mlflow.log_param(\"optimizer\", \"Adam\")\n",
    "        mlflow.log_param(\"learning_rate\", 0.001)\n",
    "        mlflow.log_param(\"beta_1\", 0.85)\n",
    "        mlflow.log_param(\"beta_2\", 0.9925)\n",
    "\n",
    "        # Prepare data generators\n",
    "        train_generator = preprocessing_for_training()\n",
    "        validation_generator = preprocessing_for_testing_inference(32)\n",
    "\n",
    "        # Log the number of training and validation samples\n",
    "        mlflow.log_param(\"num_train_samples\", train_generator.samples)\n",
    "        mlflow.log_param(\"num_val_samples\", validation_generator.samples)\n",
    "\n",
    "        # Train the model\n",
    "        history = model.fit(train_generator, epochs=10, validation_data=validation_generator)\n",
    "\n",
    "        input_example = tf.random.uniform(shape=(1, *img_shape)).numpy()\n",
    "        output_example = model.predict(input_example)\n",
    "        \n",
    "        # Manually define the input and output schemas\n",
    "        # input_schema = Schema([\n",
    "        #     ColSpec(dtype=\"float32\", shape=img_shape)\n",
    "        # ])\n",
    "\n",
    "        # output_schema = Schema([\n",
    "        #     ColSpec(dtype=\"float32\", shape=(num_classes,))\n",
    "        # ])\n",
    "\n",
    "        # input_schema = Schema([ColSpec(name=str(i), type=\"float\") for i in range(img_shape[0])])\n",
    "        # output_schema = Schema([ColSpec(name=str(i), type=\"float\") for i in range(num_classes)])\n",
    "\n",
    "        #input_schema = schema.TensorSpec(shape=img_shape, type=np.dtype(\"float32\"))\n",
    "        #output_schema = schema.TensorSpec(shape=(None, num_classes), type=np.dtype(\"float32\"))\n",
    "\n",
    "        # input_schema = schema.Schema([schema.ColSpec(type=np.float32, shape=img_shape)])\n",
    "        # output_schema = schema.Schema([schema.ColSpec(type=np.float32, shape=(num_classes,))])\n",
    "\n",
    "        #signature = mlflow.models.signature.ModelSignature(inputs=input_schema, outputs=output_schema)\n",
    "        # signature = mlflow.models.signature.ModelSignature(\n",
    "        #     inputs=mlflow.models.signature.infer_signature(input_schema),\n",
    "        #     outputs=mlflow.models.signature.infer_signature(output_schema)\n",
    "        # )\n",
    "        # Option 1: Manually construct the signature object\n",
    "\n",
    "\n",
    "        # Option 2: Infer the signature\n",
    "        signature =  mlflow.models.signature.infer_signature(input_example, output_example)\n",
    "\n",
    "        mlflow.keras.log_model(\n",
    "            model,\n",
    "            artifact_path=\"Brain_Tumor_Classification_Model\",\n",
    "            #input_example=input_example.numpy().tolist()\n",
    "            signature=signature\n",
    "        )\n",
    "\n",
    "        # Log the training metrics\n",
    "        for epoch in range(10):\n",
    "            mlflow.log_metric(\"train_accuracy\", history.history['accuracy'][epoch], step=epoch)\n",
    "            mlflow.log_metric(\"train_recall\", history.history['recall'][epoch], step=epoch)\n",
    "            mlflow.log_metric(\"val_accuracy\", history.history['val_accuracy'][epoch], step=epoch)\n",
    "            mlflow.log_metric(\"val_recall\", history.history['val_recall'][epoch], step=epoch)\n",
    "\n",
    "\n",
    "        return model\n",
    "\n",
    "# tuner = kt.Hyperband(\n",
    "#     build_model,\n",
    "#     objective='val_accuracy',\n",
    "#     max_epochs=10,\n",
    "#     factor=3\n",
    "#     # directory='./model_runs/',\n",
    "#     # project_name='brain_tumor_classification'\n",
    "# )\n",
    "\n",
    "# with mlflow.start_run():\n",
    "#     mlflow.keras.autolog()\n",
    "#     tuner.search(preprocessing_for_training(), epochs=50, validation_data=preprocessing_for_testing_inference(32))\n",
    "\n",
    "# # Get the optimal hyperparameters\n",
    "# best_hps = tuner.get_best_hyperparameters(num_trials=1)[0]\n",
    "\n",
    "# print(f\"\"\"\n",
    "# The optimal hyperparameters are as follows:\n",
    "# Number of filters in each convolutional layer:\n",
    "#     Conv_1_filters: {best_hps.get('conv_1_filters')}\n",
    "#     Conv_2_filters: {best_hps.get('conv_2_filters')}\n",
    "# Number of dense layers: {best_hps.get('num_dense_layers')}\n",
    "# \"\"\")\n",
    "# for i in range(best_hps.get('num_dense_layers')):\n",
    "#     print(f\"Dense_{i}_units: {best_hps.get(f'dense_{i}_units')}\")\n",
    "#     print(f\"Dropout_{i}_rate: {best_hps.get(f'dropout_{i}_rate')}\")\n",
    "# print(f\"Learning rate: {best_hps.get('learning_rate')}\")\n",
    "\n",
    "# Build the model with the optimal hyperparameters and train it\n",
    "# model = tuner.hypermodel.build(best_hps)\n",
    "# history = model.fit(preprocessing_for_training(), epochs=50, validation_data=preprocessing_for_testing_inference(32))\n"
   ]
  },
  {
   "cell_type": "code",
   "execution_count": 6,
   "metadata": {},
   "outputs": [
    {
     "data": {
      "text/html": [
       "<pre style=\"white-space:pre;overflow-x:auto;line-height:normal;font-family:Menlo,'DejaVu Sans Mono',consolas,'Courier New',monospace\"></pre>\n"
      ],
      "text/plain": []
     },
     "metadata": {},
     "output_type": "display_data"
    },
    {
     "name": "stdout",
     "output_type": "stream",
     "text": [
      "Found 5712 images belonging to 4 classes.\n",
      "Found 1311 images belonging to 4 classes.\n",
      "Epoch 1/10\n"
     ]
    },
    {
     "name": "stderr",
     "output_type": "stream",
     "text": [
      "2024-06-19 03:14:13.550726: I tensorflow/core/grappler/optimizers/custom_graph_optimizer_registry.cc:117] Plugin optimizer for device_type GPU is enabled.\n",
      "/opt/anaconda3/lib/python3.11/site-packages/keras/src/trainers/data_adapters/py_dataset_adapter.py:121: UserWarning: Your `PyDataset` class should call `super().__init__(**kwargs)` in its constructor. `**kwargs` can include `workers`, `use_multiprocessing`, `max_queue_size`. Do not pass these arguments to `fit()`, as they will be ignored.\n",
      "  self._warn_if_super_not_called()\n"
     ]
    },
    {
     "name": "stdout",
     "output_type": "stream",
     "text": [
      "\u001b[1m179/179\u001b[0m \u001b[32m━━━━━━━━━━━━━━━━━━━━\u001b[0m\u001b[37m\u001b[0m \u001b[1m0s\u001b[0m 222ms/step - accuracy: 0.5159 - loss: 1.0680 - recall: 0.3164"
     ]
    },
    {
     "ename": "KeyboardInterrupt",
     "evalue": "",
     "output_type": "error",
     "traceback": [
      "\u001b[0;31m---------------------------------------------------------------------------\u001b[0m",
      "\u001b[0;31mKeyboardInterrupt\u001b[0m                         Traceback (most recent call last)",
      "Cell \u001b[0;32mIn[6], line 1\u001b[0m\n\u001b[0;32m----> 1\u001b[0m model \u001b[38;5;241m=\u001b[39m ready_model()\n",
      "Cell \u001b[0;32mIn[5], line 172\u001b[0m, in \u001b[0;36mready_model\u001b[0;34m()\u001b[0m\n\u001b[1;32m    169\u001b[0m mlflow\u001b[38;5;241m.\u001b[39mlog_param(\u001b[38;5;124m\"\u001b[39m\u001b[38;5;124mnum_val_samples\u001b[39m\u001b[38;5;124m\"\u001b[39m, validation_generator\u001b[38;5;241m.\u001b[39msamples)\n\u001b[1;32m    171\u001b[0m \u001b[38;5;66;03m# Train the model\u001b[39;00m\n\u001b[0;32m--> 172\u001b[0m history \u001b[38;5;241m=\u001b[39m model\u001b[38;5;241m.\u001b[39mfit(train_generator, epochs\u001b[38;5;241m=\u001b[39m\u001b[38;5;241m10\u001b[39m, validation_data\u001b[38;5;241m=\u001b[39mvalidation_generator)\n\u001b[1;32m    174\u001b[0m input_example \u001b[38;5;241m=\u001b[39m tf\u001b[38;5;241m.\u001b[39mrandom\u001b[38;5;241m.\u001b[39muniform(shape\u001b[38;5;241m=\u001b[39m(\u001b[38;5;241m1\u001b[39m, \u001b[38;5;241m*\u001b[39mimg_shape))\u001b[38;5;241m.\u001b[39mnumpy()\n\u001b[1;32m    175\u001b[0m output_example \u001b[38;5;241m=\u001b[39m model\u001b[38;5;241m.\u001b[39mpredict(input_example)\n",
      "File \u001b[0;32m/opt/anaconda3/lib/python3.11/site-packages/keras/src/utils/traceback_utils.py:117\u001b[0m, in \u001b[0;36mfilter_traceback.<locals>.error_handler\u001b[0;34m(*args, **kwargs)\u001b[0m\n\u001b[1;32m    115\u001b[0m filtered_tb \u001b[38;5;241m=\u001b[39m \u001b[38;5;28;01mNone\u001b[39;00m\n\u001b[1;32m    116\u001b[0m \u001b[38;5;28;01mtry\u001b[39;00m:\n\u001b[0;32m--> 117\u001b[0m     \u001b[38;5;28;01mreturn\u001b[39;00m fn(\u001b[38;5;241m*\u001b[39margs, \u001b[38;5;241m*\u001b[39m\u001b[38;5;241m*\u001b[39mkwargs)\n\u001b[1;32m    118\u001b[0m \u001b[38;5;28;01mexcept\u001b[39;00m \u001b[38;5;167;01mException\u001b[39;00m \u001b[38;5;28;01mas\u001b[39;00m e:\n\u001b[1;32m    119\u001b[0m     filtered_tb \u001b[38;5;241m=\u001b[39m _process_traceback_frames(e\u001b[38;5;241m.\u001b[39m__traceback__)\n",
      "File \u001b[0;32m/opt/anaconda3/lib/python3.11/site-packages/keras/src/backend/tensorflow/trainer.py:339\u001b[0m, in \u001b[0;36mTensorFlowTrainer.fit\u001b[0;34m(self, x, y, batch_size, epochs, verbose, callbacks, validation_split, validation_data, shuffle, class_weight, sample_weight, initial_epoch, steps_per_epoch, validation_steps, validation_batch_size, validation_freq)\u001b[0m\n\u001b[1;32m    328\u001b[0m \u001b[38;5;28;01mif\u001b[39;00m \u001b[38;5;28mgetattr\u001b[39m(\u001b[38;5;28mself\u001b[39m, \u001b[38;5;124m\"\u001b[39m\u001b[38;5;124m_eval_epoch_iterator\u001b[39m\u001b[38;5;124m\"\u001b[39m, \u001b[38;5;28;01mNone\u001b[39;00m) \u001b[38;5;129;01mis\u001b[39;00m \u001b[38;5;28;01mNone\u001b[39;00m:\n\u001b[1;32m    329\u001b[0m     \u001b[38;5;28mself\u001b[39m\u001b[38;5;241m.\u001b[39m_eval_epoch_iterator \u001b[38;5;241m=\u001b[39m TFEpochIterator(\n\u001b[1;32m    330\u001b[0m         x\u001b[38;5;241m=\u001b[39mval_x,\n\u001b[1;32m    331\u001b[0m         y\u001b[38;5;241m=\u001b[39mval_y,\n\u001b[0;32m   (...)\u001b[0m\n\u001b[1;32m    337\u001b[0m         shuffle\u001b[38;5;241m=\u001b[39m\u001b[38;5;28;01mFalse\u001b[39;00m,\n\u001b[1;32m    338\u001b[0m     )\n\u001b[0;32m--> 339\u001b[0m val_logs \u001b[38;5;241m=\u001b[39m \u001b[38;5;28mself\u001b[39m\u001b[38;5;241m.\u001b[39mevaluate(\n\u001b[1;32m    340\u001b[0m     x\u001b[38;5;241m=\u001b[39mval_x,\n\u001b[1;32m    341\u001b[0m     y\u001b[38;5;241m=\u001b[39mval_y,\n\u001b[1;32m    342\u001b[0m     sample_weight\u001b[38;5;241m=\u001b[39mval_sample_weight,\n\u001b[1;32m    343\u001b[0m     batch_size\u001b[38;5;241m=\u001b[39mvalidation_batch_size \u001b[38;5;129;01mor\u001b[39;00m batch_size,\n\u001b[1;32m    344\u001b[0m     steps\u001b[38;5;241m=\u001b[39mvalidation_steps,\n\u001b[1;32m    345\u001b[0m     callbacks\u001b[38;5;241m=\u001b[39mcallbacks,\n\u001b[1;32m    346\u001b[0m     return_dict\u001b[38;5;241m=\u001b[39m\u001b[38;5;28;01mTrue\u001b[39;00m,\n\u001b[1;32m    347\u001b[0m     _use_cached_eval_dataset\u001b[38;5;241m=\u001b[39m\u001b[38;5;28;01mTrue\u001b[39;00m,\n\u001b[1;32m    348\u001b[0m )\n\u001b[1;32m    349\u001b[0m val_logs \u001b[38;5;241m=\u001b[39m {\n\u001b[1;32m    350\u001b[0m     \u001b[38;5;124m\"\u001b[39m\u001b[38;5;124mval_\u001b[39m\u001b[38;5;124m\"\u001b[39m \u001b[38;5;241m+\u001b[39m name: val \u001b[38;5;28;01mfor\u001b[39;00m name, val \u001b[38;5;129;01min\u001b[39;00m val_logs\u001b[38;5;241m.\u001b[39mitems()\n\u001b[1;32m    351\u001b[0m }\n\u001b[1;32m    352\u001b[0m epoch_logs\u001b[38;5;241m.\u001b[39mupdate(val_logs)\n",
      "File \u001b[0;32m/opt/anaconda3/lib/python3.11/site-packages/keras/src/utils/traceback_utils.py:117\u001b[0m, in \u001b[0;36mfilter_traceback.<locals>.error_handler\u001b[0;34m(*args, **kwargs)\u001b[0m\n\u001b[1;32m    115\u001b[0m filtered_tb \u001b[38;5;241m=\u001b[39m \u001b[38;5;28;01mNone\u001b[39;00m\n\u001b[1;32m    116\u001b[0m \u001b[38;5;28;01mtry\u001b[39;00m:\n\u001b[0;32m--> 117\u001b[0m     \u001b[38;5;28;01mreturn\u001b[39;00m fn(\u001b[38;5;241m*\u001b[39margs, \u001b[38;5;241m*\u001b[39m\u001b[38;5;241m*\u001b[39mkwargs)\n\u001b[1;32m    118\u001b[0m \u001b[38;5;28;01mexcept\u001b[39;00m \u001b[38;5;167;01mException\u001b[39;00m \u001b[38;5;28;01mas\u001b[39;00m e:\n\u001b[1;32m    119\u001b[0m     filtered_tb \u001b[38;5;241m=\u001b[39m _process_traceback_frames(e\u001b[38;5;241m.\u001b[39m__traceback__)\n",
      "File \u001b[0;32m/opt/anaconda3/lib/python3.11/site-packages/keras/src/backend/tensorflow/trainer.py:425\u001b[0m, in \u001b[0;36mTensorFlowTrainer.evaluate\u001b[0;34m(self, x, y, batch_size, verbose, sample_weight, steps, callbacks, return_dict, **kwargs)\u001b[0m\n\u001b[1;32m    423\u001b[0m \u001b[38;5;28;01mfor\u001b[39;00m step, iterator \u001b[38;5;129;01min\u001b[39;00m epoch_iterator\u001b[38;5;241m.\u001b[39menumerate_epoch():\n\u001b[1;32m    424\u001b[0m     callbacks\u001b[38;5;241m.\u001b[39mon_test_batch_begin(step)\n\u001b[0;32m--> 425\u001b[0m     logs \u001b[38;5;241m=\u001b[39m \u001b[38;5;28mself\u001b[39m\u001b[38;5;241m.\u001b[39mtest_function(iterator)\n\u001b[1;32m    426\u001b[0m     logs \u001b[38;5;241m=\u001b[39m \u001b[38;5;28mself\u001b[39m\u001b[38;5;241m.\u001b[39m_pythonify_logs(logs)\n\u001b[1;32m    427\u001b[0m     callbacks\u001b[38;5;241m.\u001b[39mon_test_batch_end(step, logs)\n",
      "File \u001b[0;32m/opt/anaconda3/lib/python3.11/site-packages/tensorflow/python/util/traceback_utils.py:150\u001b[0m, in \u001b[0;36mfilter_traceback.<locals>.error_handler\u001b[0;34m(*args, **kwargs)\u001b[0m\n\u001b[1;32m    148\u001b[0m filtered_tb \u001b[38;5;241m=\u001b[39m \u001b[38;5;28;01mNone\u001b[39;00m\n\u001b[1;32m    149\u001b[0m \u001b[38;5;28;01mtry\u001b[39;00m:\n\u001b[0;32m--> 150\u001b[0m   \u001b[38;5;28;01mreturn\u001b[39;00m fn(\u001b[38;5;241m*\u001b[39margs, \u001b[38;5;241m*\u001b[39m\u001b[38;5;241m*\u001b[39mkwargs)\n\u001b[1;32m    151\u001b[0m \u001b[38;5;28;01mexcept\u001b[39;00m \u001b[38;5;167;01mException\u001b[39;00m \u001b[38;5;28;01mas\u001b[39;00m e:\n\u001b[1;32m    152\u001b[0m   filtered_tb \u001b[38;5;241m=\u001b[39m _process_traceback_frames(e\u001b[38;5;241m.\u001b[39m__traceback__)\n",
      "File \u001b[0;32m/opt/anaconda3/lib/python3.11/site-packages/tensorflow/python/eager/polymorphic_function/polymorphic_function.py:833\u001b[0m, in \u001b[0;36mFunction.__call__\u001b[0;34m(self, *args, **kwds)\u001b[0m\n\u001b[1;32m    830\u001b[0m compiler \u001b[38;5;241m=\u001b[39m \u001b[38;5;124m\"\u001b[39m\u001b[38;5;124mxla\u001b[39m\u001b[38;5;124m\"\u001b[39m \u001b[38;5;28;01mif\u001b[39;00m \u001b[38;5;28mself\u001b[39m\u001b[38;5;241m.\u001b[39m_jit_compile \u001b[38;5;28;01melse\u001b[39;00m \u001b[38;5;124m\"\u001b[39m\u001b[38;5;124mnonXla\u001b[39m\u001b[38;5;124m\"\u001b[39m\n\u001b[1;32m    832\u001b[0m \u001b[38;5;28;01mwith\u001b[39;00m OptionalXlaContext(\u001b[38;5;28mself\u001b[39m\u001b[38;5;241m.\u001b[39m_jit_compile):\n\u001b[0;32m--> 833\u001b[0m   result \u001b[38;5;241m=\u001b[39m \u001b[38;5;28mself\u001b[39m\u001b[38;5;241m.\u001b[39m_call(\u001b[38;5;241m*\u001b[39margs, \u001b[38;5;241m*\u001b[39m\u001b[38;5;241m*\u001b[39mkwds)\n\u001b[1;32m    835\u001b[0m new_tracing_count \u001b[38;5;241m=\u001b[39m \u001b[38;5;28mself\u001b[39m\u001b[38;5;241m.\u001b[39mexperimental_get_tracing_count()\n\u001b[1;32m    836\u001b[0m without_tracing \u001b[38;5;241m=\u001b[39m (tracing_count \u001b[38;5;241m==\u001b[39m new_tracing_count)\n",
      "File \u001b[0;32m/opt/anaconda3/lib/python3.11/site-packages/tensorflow/python/eager/polymorphic_function/polymorphic_function.py:878\u001b[0m, in \u001b[0;36mFunction._call\u001b[0;34m(self, *args, **kwds)\u001b[0m\n\u001b[1;32m    875\u001b[0m \u001b[38;5;28mself\u001b[39m\u001b[38;5;241m.\u001b[39m_lock\u001b[38;5;241m.\u001b[39mrelease()\n\u001b[1;32m    876\u001b[0m \u001b[38;5;66;03m# In this case we have not created variables on the first call. So we can\u001b[39;00m\n\u001b[1;32m    877\u001b[0m \u001b[38;5;66;03m# run the first trace but we should fail if variables are created.\u001b[39;00m\n\u001b[0;32m--> 878\u001b[0m results \u001b[38;5;241m=\u001b[39m tracing_compilation\u001b[38;5;241m.\u001b[39mcall_function(\n\u001b[1;32m    879\u001b[0m     args, kwds, \u001b[38;5;28mself\u001b[39m\u001b[38;5;241m.\u001b[39m_variable_creation_config\n\u001b[1;32m    880\u001b[0m )\n\u001b[1;32m    881\u001b[0m \u001b[38;5;28;01mif\u001b[39;00m \u001b[38;5;28mself\u001b[39m\u001b[38;5;241m.\u001b[39m_created_variables:\n\u001b[1;32m    882\u001b[0m   \u001b[38;5;28;01mraise\u001b[39;00m \u001b[38;5;167;01mValueError\u001b[39;00m(\u001b[38;5;124m\"\u001b[39m\u001b[38;5;124mCreating variables on a non-first call to a function\u001b[39m\u001b[38;5;124m\"\u001b[39m\n\u001b[1;32m    883\u001b[0m                    \u001b[38;5;124m\"\u001b[39m\u001b[38;5;124m decorated with tf.function.\u001b[39m\u001b[38;5;124m\"\u001b[39m)\n",
      "File \u001b[0;32m/opt/anaconda3/lib/python3.11/site-packages/tensorflow/python/eager/polymorphic_function/tracing_compilation.py:139\u001b[0m, in \u001b[0;36mcall_function\u001b[0;34m(args, kwargs, tracing_options)\u001b[0m\n\u001b[1;32m    137\u001b[0m bound_args \u001b[38;5;241m=\u001b[39m function\u001b[38;5;241m.\u001b[39mfunction_type\u001b[38;5;241m.\u001b[39mbind(\u001b[38;5;241m*\u001b[39margs, \u001b[38;5;241m*\u001b[39m\u001b[38;5;241m*\u001b[39mkwargs)\n\u001b[1;32m    138\u001b[0m flat_inputs \u001b[38;5;241m=\u001b[39m function\u001b[38;5;241m.\u001b[39mfunction_type\u001b[38;5;241m.\u001b[39munpack_inputs(bound_args)\n\u001b[0;32m--> 139\u001b[0m \u001b[38;5;28;01mreturn\u001b[39;00m function\u001b[38;5;241m.\u001b[39m_call_flat(  \u001b[38;5;66;03m# pylint: disable=protected-access\u001b[39;00m\n\u001b[1;32m    140\u001b[0m     flat_inputs, captured_inputs\u001b[38;5;241m=\u001b[39mfunction\u001b[38;5;241m.\u001b[39mcaptured_inputs\n\u001b[1;32m    141\u001b[0m )\n",
      "File \u001b[0;32m/opt/anaconda3/lib/python3.11/site-packages/tensorflow/python/eager/polymorphic_function/concrete_function.py:1322\u001b[0m, in \u001b[0;36mConcreteFunction._call_flat\u001b[0;34m(self, tensor_inputs, captured_inputs)\u001b[0m\n\u001b[1;32m   1318\u001b[0m possible_gradient_type \u001b[38;5;241m=\u001b[39m gradients_util\u001b[38;5;241m.\u001b[39mPossibleTapeGradientTypes(args)\n\u001b[1;32m   1319\u001b[0m \u001b[38;5;28;01mif\u001b[39;00m (possible_gradient_type \u001b[38;5;241m==\u001b[39m gradients_util\u001b[38;5;241m.\u001b[39mPOSSIBLE_GRADIENT_TYPES_NONE\n\u001b[1;32m   1320\u001b[0m     \u001b[38;5;129;01mand\u001b[39;00m executing_eagerly):\n\u001b[1;32m   1321\u001b[0m   \u001b[38;5;66;03m# No tape is watching; skip to running the function.\u001b[39;00m\n\u001b[0;32m-> 1322\u001b[0m   \u001b[38;5;28;01mreturn\u001b[39;00m \u001b[38;5;28mself\u001b[39m\u001b[38;5;241m.\u001b[39m_inference_function\u001b[38;5;241m.\u001b[39mcall_preflattened(args)\n\u001b[1;32m   1323\u001b[0m forward_backward \u001b[38;5;241m=\u001b[39m \u001b[38;5;28mself\u001b[39m\u001b[38;5;241m.\u001b[39m_select_forward_and_backward_functions(\n\u001b[1;32m   1324\u001b[0m     args,\n\u001b[1;32m   1325\u001b[0m     possible_gradient_type,\n\u001b[1;32m   1326\u001b[0m     executing_eagerly)\n\u001b[1;32m   1327\u001b[0m forward_function, args_with_tangents \u001b[38;5;241m=\u001b[39m forward_backward\u001b[38;5;241m.\u001b[39mforward()\n",
      "File \u001b[0;32m/opt/anaconda3/lib/python3.11/site-packages/tensorflow/python/eager/polymorphic_function/atomic_function.py:216\u001b[0m, in \u001b[0;36mAtomicFunction.call_preflattened\u001b[0;34m(self, args)\u001b[0m\n\u001b[1;32m    214\u001b[0m \u001b[38;5;28;01mdef\u001b[39;00m \u001b[38;5;21mcall_preflattened\u001b[39m(\u001b[38;5;28mself\u001b[39m, args: Sequence[core\u001b[38;5;241m.\u001b[39mTensor]) \u001b[38;5;241m-\u001b[39m\u001b[38;5;241m>\u001b[39m Any:\n\u001b[1;32m    215\u001b[0m \u001b[38;5;250m  \u001b[39m\u001b[38;5;124;03m\"\"\"Calls with flattened tensor inputs and returns the structured output.\"\"\"\u001b[39;00m\n\u001b[0;32m--> 216\u001b[0m   flat_outputs \u001b[38;5;241m=\u001b[39m \u001b[38;5;28mself\u001b[39m\u001b[38;5;241m.\u001b[39mcall_flat(\u001b[38;5;241m*\u001b[39margs)\n\u001b[1;32m    217\u001b[0m   \u001b[38;5;28;01mreturn\u001b[39;00m \u001b[38;5;28mself\u001b[39m\u001b[38;5;241m.\u001b[39mfunction_type\u001b[38;5;241m.\u001b[39mpack_output(flat_outputs)\n",
      "File \u001b[0;32m/opt/anaconda3/lib/python3.11/site-packages/tensorflow/python/eager/polymorphic_function/atomic_function.py:251\u001b[0m, in \u001b[0;36mAtomicFunction.call_flat\u001b[0;34m(self, *args)\u001b[0m\n\u001b[1;32m    249\u001b[0m \u001b[38;5;28;01mwith\u001b[39;00m record\u001b[38;5;241m.\u001b[39mstop_recording():\n\u001b[1;32m    250\u001b[0m   \u001b[38;5;28;01mif\u001b[39;00m \u001b[38;5;28mself\u001b[39m\u001b[38;5;241m.\u001b[39m_bound_context\u001b[38;5;241m.\u001b[39mexecuting_eagerly():\n\u001b[0;32m--> 251\u001b[0m     outputs \u001b[38;5;241m=\u001b[39m \u001b[38;5;28mself\u001b[39m\u001b[38;5;241m.\u001b[39m_bound_context\u001b[38;5;241m.\u001b[39mcall_function(\n\u001b[1;32m    252\u001b[0m         \u001b[38;5;28mself\u001b[39m\u001b[38;5;241m.\u001b[39mname,\n\u001b[1;32m    253\u001b[0m         \u001b[38;5;28mlist\u001b[39m(args),\n\u001b[1;32m    254\u001b[0m         \u001b[38;5;28mlen\u001b[39m(\u001b[38;5;28mself\u001b[39m\u001b[38;5;241m.\u001b[39mfunction_type\u001b[38;5;241m.\u001b[39mflat_outputs),\n\u001b[1;32m    255\u001b[0m     )\n\u001b[1;32m    256\u001b[0m   \u001b[38;5;28;01melse\u001b[39;00m:\n\u001b[1;32m    257\u001b[0m     outputs \u001b[38;5;241m=\u001b[39m make_call_op_in_graph(\n\u001b[1;32m    258\u001b[0m         \u001b[38;5;28mself\u001b[39m,\n\u001b[1;32m    259\u001b[0m         \u001b[38;5;28mlist\u001b[39m(args),\n\u001b[1;32m    260\u001b[0m         \u001b[38;5;28mself\u001b[39m\u001b[38;5;241m.\u001b[39m_bound_context\u001b[38;5;241m.\u001b[39mfunction_call_options\u001b[38;5;241m.\u001b[39mas_attrs(),\n\u001b[1;32m    261\u001b[0m     )\n",
      "File \u001b[0;32m/opt/anaconda3/lib/python3.11/site-packages/tensorflow/python/eager/context.py:1500\u001b[0m, in \u001b[0;36mContext.call_function\u001b[0;34m(self, name, tensor_inputs, num_outputs)\u001b[0m\n\u001b[1;32m   1498\u001b[0m cancellation_context \u001b[38;5;241m=\u001b[39m cancellation\u001b[38;5;241m.\u001b[39mcontext()\n\u001b[1;32m   1499\u001b[0m \u001b[38;5;28;01mif\u001b[39;00m cancellation_context \u001b[38;5;129;01mis\u001b[39;00m \u001b[38;5;28;01mNone\u001b[39;00m:\n\u001b[0;32m-> 1500\u001b[0m   outputs \u001b[38;5;241m=\u001b[39m execute\u001b[38;5;241m.\u001b[39mexecute(\n\u001b[1;32m   1501\u001b[0m       name\u001b[38;5;241m.\u001b[39mdecode(\u001b[38;5;124m\"\u001b[39m\u001b[38;5;124mutf-8\u001b[39m\u001b[38;5;124m\"\u001b[39m),\n\u001b[1;32m   1502\u001b[0m       num_outputs\u001b[38;5;241m=\u001b[39mnum_outputs,\n\u001b[1;32m   1503\u001b[0m       inputs\u001b[38;5;241m=\u001b[39mtensor_inputs,\n\u001b[1;32m   1504\u001b[0m       attrs\u001b[38;5;241m=\u001b[39mattrs,\n\u001b[1;32m   1505\u001b[0m       ctx\u001b[38;5;241m=\u001b[39m\u001b[38;5;28mself\u001b[39m,\n\u001b[1;32m   1506\u001b[0m   )\n\u001b[1;32m   1507\u001b[0m \u001b[38;5;28;01melse\u001b[39;00m:\n\u001b[1;32m   1508\u001b[0m   outputs \u001b[38;5;241m=\u001b[39m execute\u001b[38;5;241m.\u001b[39mexecute_with_cancellation(\n\u001b[1;32m   1509\u001b[0m       name\u001b[38;5;241m.\u001b[39mdecode(\u001b[38;5;124m\"\u001b[39m\u001b[38;5;124mutf-8\u001b[39m\u001b[38;5;124m\"\u001b[39m),\n\u001b[1;32m   1510\u001b[0m       num_outputs\u001b[38;5;241m=\u001b[39mnum_outputs,\n\u001b[0;32m   (...)\u001b[0m\n\u001b[1;32m   1514\u001b[0m       cancellation_manager\u001b[38;5;241m=\u001b[39mcancellation_context,\n\u001b[1;32m   1515\u001b[0m   )\n",
      "File \u001b[0;32m/opt/anaconda3/lib/python3.11/site-packages/tensorflow/python/eager/execute.py:53\u001b[0m, in \u001b[0;36mquick_execute\u001b[0;34m(op_name, num_outputs, inputs, attrs, ctx, name)\u001b[0m\n\u001b[1;32m     51\u001b[0m \u001b[38;5;28;01mtry\u001b[39;00m:\n\u001b[1;32m     52\u001b[0m   ctx\u001b[38;5;241m.\u001b[39mensure_initialized()\n\u001b[0;32m---> 53\u001b[0m   tensors \u001b[38;5;241m=\u001b[39m pywrap_tfe\u001b[38;5;241m.\u001b[39mTFE_Py_Execute(ctx\u001b[38;5;241m.\u001b[39m_handle, device_name, op_name,\n\u001b[1;32m     54\u001b[0m                                       inputs, attrs, num_outputs)\n\u001b[1;32m     55\u001b[0m \u001b[38;5;28;01mexcept\u001b[39;00m core\u001b[38;5;241m.\u001b[39m_NotOkStatusException \u001b[38;5;28;01mas\u001b[39;00m e:\n\u001b[1;32m     56\u001b[0m   \u001b[38;5;28;01mif\u001b[39;00m name \u001b[38;5;129;01mis\u001b[39;00m \u001b[38;5;129;01mnot\u001b[39;00m \u001b[38;5;28;01mNone\u001b[39;00m:\n",
      "\u001b[0;31mKeyboardInterrupt\u001b[0m: "
     ]
    }
   ],
   "source": [
    "model = ready_model()"
   ]
  },
  {
   "cell_type": "code",
   "execution_count": 8,
   "metadata": {},
   "outputs": [
    {
     "name": "stdout",
     "output_type": "stream",
     "text": [
      "Notebook running: keras  3.3.3\n"
     ]
    }
   ],
   "source": [
    "\n",
    "import numpy as np\n",
    "import keras\n",
    "from keras.applications.imagenet_utils import decode_predictions\n",
    "import skimage.io\n",
    "import skimage.segmentation\n",
    "import copy\n",
    "import sklearn\n",
    "import sklearn.metrics\n",
    "from sklearn.linear_model import LinearRegression\n",
    "import warnings\n",
    "\n",
    "print('Notebook running: keras ', keras.__version__)\n",
    "np.random.seed(222)"
   ]
  },
  {
   "cell_type": "code",
   "execution_count": 4,
   "metadata": {},
   "outputs": [],
   "source": [
    "from tensorflow.keras.preprocessing import image\n",
    "def preprocessing_for_(path_, batchSize):\n",
    "    test_val_datagen = ImageDataGenerator(rescale=1.0/255)\n",
    "    test_generator = test_val_datagen.flow(\n",
    "    path_,\n",
    "    batch_size= batchSize,\n",
    "    shuffle=False\n",
    ")\n",
    "    return test_generator\n",
    "\n",
    "def load_and_preprocess_image(file_path, img_size=(224, 224, 3)):\n",
    "    img = image.load_img(file_path, target_size=img_size)\n",
    "    img_array = image.img_to_array(img)\n",
    "    img_array = np.expand_dims(img_array, 0)  # Create a batch\n",
    "    img_array /= 255.0  # Normalize to [0, 1]\n",
    "    return img_array"
   ]
  },
  {
   "cell_type": "code",
   "execution_count": 1,
   "metadata": {},
   "outputs": [
    {
     "name": "stdout",
     "output_type": "stream",
     "text": [
      "Path found : /Users/praneithranganath/Documents/M2U/tensile-topic-424308-d9-17a256b9b21c.json\n"
     ]
    },
    {
     "data": {
      "application/vnd.jupyter.widget-view+json": {
       "model_id": "f5c61d5482e14b6aba215ed29a0952f3",
       "version_major": 2,
       "version_minor": 0
      },
      "text/plain": [
       "Downloading artifacts:   0%|          | 0/10 [00:00<?, ?it/s]"
      ]
     },
     "metadata": {},
     "output_type": "display_data"
    },
    {
     "name": "stderr",
     "output_type": "stream",
     "text": [
      "2024-06-20 23:50:44.860817: I metal_plugin/src/device/metal_device.cc:1154] Metal device set to: Apple M2\n",
      "2024-06-20 23:50:44.860848: I metal_plugin/src/device/metal_device.cc:296] systemMemory: 8.00 GB\n",
      "2024-06-20 23:50:44.860854: I metal_plugin/src/device/metal_device.cc:313] maxCacheSize: 2.67 GB\n",
      "2024-06-20 23:50:44.861404: I tensorflow/core/common_runtime/pluggable_device/pluggable_device_factory.cc:305] Could not identify NUMA node of platform GPU ID 0, defaulting to 0. Your kernel may not have been built with NUMA support.\n",
      "2024-06-20 23:50:44.861418: I tensorflow/core/common_runtime/pluggable_device/pluggable_device_factory.cc:271] Created TensorFlow device (/job:localhost/replica:0/task:0/device:GPU:0 with 0 MB memory) -> physical PluggableDevice (device: 0, name: METAL, pci bus id: <undefined>)\n"
     ]
    }
   ],
   "source": [
    "import mlflow\n",
    "import os\n",
    "keyfile_path = '/Users/praneithranganath/Documents/M2U/tensile-topic-424308-d9-17a256b9b21c.json'  # change as per your keyfile path\n",
    "\n",
    "# Checking if file exists\n",
    "if not os.path.exists(keyfile_path):\n",
    "    raise FileNotFoundError(f\"The file '{keyfile_path}' does not exist. Please check the path.\")\n",
    "else:\n",
    "    print(f'Path found : {keyfile_path}')\n",
    "\n",
    "# Set the environment variable to point to the service account key file\n",
    "os.environ['GOOGLE_APPLICATION_CREDENTIALS'] = keyfile_path\n",
    "os.environ['MLFLOW_GCS_BUCKET'] = 'ml-flow-remote-tracker-bucket'\n",
    "\n",
    "mlflow.set_tracking_uri(\"http://35.231.231.140:5000/\")\n",
    "mlflow.set_experiment(\"Brain-Tumor-Classification\")\n",
    "\n",
    "logged_model = 'runs:/c5c9b41a3163479e9e1fd4a6a8384e31/model'\n",
    "\n",
    "# Load model as a PyFuncModel.\n",
    "loaded_model = mlflow.pyfunc.load_model(logged_model)"
   ]
  },
  {
   "cell_type": "code",
   "execution_count": null,
   "metadata": {},
   "outputs": [],
   "source": []
  },
  {
   "cell_type": "code",
   "execution_count": 9,
   "metadata": {},
   "outputs": [
    {
     "name": "stdout",
     "output_type": "stream",
     "text": [
      "\u001b[1m1/1\u001b[0m \u001b[32m━━━━━━━━━━━━━━━━━━━━\u001b[0m\u001b[37m\u001b[0m \u001b[1m0s\u001b[0m 196ms/step\n"
     ]
    },
    {
     "name": "stderr",
     "output_type": "stream",
     "text": [
      "2024-06-19 02:42:29.327436: I tensorflow/core/grappler/optimizers/custom_graph_optimizer_registry.cc:117] Plugin optimizer for device_type GPU is enabled.\n"
     ]
    },
    {
     "data": {
      "text/plain": [
       "0"
      ]
     },
     "execution_count": 9,
     "metadata": {},
     "output_type": "execute_result"
    }
   ],
   "source": [
    "Xi = load_and_preprocess_image('data/Testing/glioma/Te-gl_0010.jpg')\n",
    "preds = loaded_model.predict(Xi)\n",
    "preds.argsort()[0, -5:][::-1][0] #Top class"
   ]
  },
  {
   "cell_type": "code",
   "execution_count": 82,
   "metadata": {},
   "outputs": [],
   "source": [
    "from lime.lime_image import LimeImageExplainer"
   ]
  },
  {
   "cell_type": "code",
   "execution_count": 83,
   "metadata": {},
   "outputs": [],
   "source": [
    "explainer = LimeImageExplainer()"
   ]
  },
  {
   "cell_type": "code",
   "execution_count": 84,
   "metadata": {},
   "outputs": [
    {
     "data": {
      "application/vnd.jupyter.widget-view+json": {
       "model_id": "d53f1bf59bf341c2a127b5e76a11c1de",
       "version_major": 2,
       "version_minor": 0
      },
      "text/plain": [
       "  0%|          | 0/250 [00:00<?, ?it/s]"
      ]
     },
     "metadata": {},
     "output_type": "display_data"
    },
    {
     "name": "stdout",
     "output_type": "stream",
     "text": [
      "\u001b[1m1/1\u001b[0m \u001b[32m━━━━━━━━━━━━━━━━━━━━\u001b[0m\u001b[37m\u001b[0m \u001b[1m1s\u001b[0m 523ms/step\n",
      "\u001b[1m1/1\u001b[0m \u001b[32m━━━━━━━━━━━━━━━━━━━━\u001b[0m\u001b[37m\u001b[0m \u001b[1m0s\u001b[0m 14ms/step\n",
      "\u001b[1m1/1\u001b[0m \u001b[32m━━━━━━━━━━━━━━━━━━━━\u001b[0m\u001b[37m\u001b[0m \u001b[1m0s\u001b[0m 22ms/step\n",
      "\u001b[1m1/1\u001b[0m \u001b[32m━━━━━━━━━━━━━━━━━━━━\u001b[0m\u001b[37m\u001b[0m \u001b[1m0s\u001b[0m 14ms/step\n",
      "\u001b[1m1/1\u001b[0m \u001b[32m━━━━━━━━━━━━━━━━━━━━\u001b[0m\u001b[37m\u001b[0m \u001b[1m0s\u001b[0m 10ms/step\n",
      "\u001b[1m1/1\u001b[0m \u001b[32m━━━━━━━━━━━━━━━━━━━━\u001b[0m\u001b[37m\u001b[0m \u001b[1m0s\u001b[0m 11ms/step\n",
      "\u001b[1m1/1\u001b[0m \u001b[32m━━━━━━━━━━━━━━━━━━━━\u001b[0m\u001b[37m\u001b[0m \u001b[1m0s\u001b[0m 10ms/step\n",
      "\u001b[1m1/1\u001b[0m \u001b[32m━━━━━━━━━━━━━━━━━━━━\u001b[0m\u001b[37m\u001b[0m \u001b[1m0s\u001b[0m 10ms/step\n",
      "\u001b[1m1/1\u001b[0m \u001b[32m━━━━━━━━━━━━━━━━━━━━\u001b[0m\u001b[37m\u001b[0m \u001b[1m0s\u001b[0m 20ms/step\n",
      "\u001b[1m1/1\u001b[0m \u001b[32m━━━━━━━━━━━━━━━━━━━━\u001b[0m\u001b[37m\u001b[0m \u001b[1m0s\u001b[0m 11ms/step\n",
      "\u001b[1m1/1\u001b[0m \u001b[32m━━━━━━━━━━━━━━━━━━━━\u001b[0m\u001b[37m\u001b[0m \u001b[1m0s\u001b[0m 11ms/step\n",
      "\u001b[1m1/1\u001b[0m \u001b[32m━━━━━━━━━━━━━━━━━━━━\u001b[0m\u001b[37m\u001b[0m \u001b[1m0s\u001b[0m 12ms/step\n",
      "\u001b[1m1/1\u001b[0m \u001b[32m━━━━━━━━━━━━━━━━━━━━\u001b[0m\u001b[37m\u001b[0m \u001b[1m0s\u001b[0m 11ms/step\n",
      "\u001b[1m1/1\u001b[0m \u001b[32m━━━━━━━━━━━━━━━━━━━━\u001b[0m\u001b[37m\u001b[0m \u001b[1m0s\u001b[0m 10ms/step\n",
      "\u001b[1m1/1\u001b[0m \u001b[32m━━━━━━━━━━━━━━━━━━━━\u001b[0m\u001b[37m\u001b[0m \u001b[1m0s\u001b[0m 10ms/step\n",
      "\u001b[1m1/1\u001b[0m \u001b[32m━━━━━━━━━━━━━━━━━━━━\u001b[0m\u001b[37m\u001b[0m \u001b[1m0s\u001b[0m 12ms/step\n",
      "\u001b[1m1/1\u001b[0m \u001b[32m━━━━━━━━━━━━━━━━━━━━\u001b[0m\u001b[37m\u001b[0m \u001b[1m0s\u001b[0m 12ms/step\n",
      "\u001b[1m1/1\u001b[0m \u001b[32m━━━━━━━━━━━━━━━━━━━━\u001b[0m\u001b[37m\u001b[0m \u001b[1m0s\u001b[0m 11ms/step\n",
      "\u001b[1m1/1\u001b[0m \u001b[32m━━━━━━━━━━━━━━━━━━━━\u001b[0m\u001b[37m\u001b[0m \u001b[1m0s\u001b[0m 10ms/step\n",
      "\u001b[1m1/1\u001b[0m \u001b[32m━━━━━━━━━━━━━━━━━━━━\u001b[0m\u001b[37m\u001b[0m \u001b[1m0s\u001b[0m 11ms/step\n",
      "\u001b[1m1/1\u001b[0m \u001b[32m━━━━━━━━━━━━━━━━━━━━\u001b[0m\u001b[37m\u001b[0m \u001b[1m0s\u001b[0m 10ms/step\n",
      "\u001b[1m1/1\u001b[0m \u001b[32m━━━━━━━━━━━━━━━━━━━━\u001b[0m\u001b[37m\u001b[0m \u001b[1m0s\u001b[0m 10ms/step\n",
      "\u001b[1m1/1\u001b[0m \u001b[32m━━━━━━━━━━━━━━━━━━━━\u001b[0m\u001b[37m\u001b[0m \u001b[1m0s\u001b[0m 13ms/step\n",
      "\u001b[1m1/1\u001b[0m \u001b[32m━━━━━━━━━━━━━━━━━━━━\u001b[0m\u001b[37m\u001b[0m \u001b[1m0s\u001b[0m 11ms/step\n",
      "\u001b[1m1/1\u001b[0m \u001b[32m━━━━━━━━━━━━━━━━━━━━\u001b[0m\u001b[37m\u001b[0m \u001b[1m0s\u001b[0m 14ms/step\n"
     ]
    }
   ],
   "source": [
    "explanation = explainer.explain_instance(Xi[0], model.predict, \n",
    "                                         top_labels=4, num_samples=250,\n",
    "                                         random_seed=42)"
   ]
  },
  {
   "cell_type": "code",
   "execution_count": 87,
   "metadata": {},
   "outputs": [
    {
     "data": {
      "text/plain": [
       "<matplotlib.image.AxesImage at 0x4dfba8710>"
      ]
     },
     "execution_count": 87,
     "metadata": {},
     "output_type": "execute_result"
    },
    {
     "data": {
      "image/png": "[encoded data removed]",
      "text/plain": [
       "<Figure size 640x480 with 1 Axes>"
      ]
     },
     "metadata": {},
     "output_type": "display_data"
    }
   ],
   "source": [
    "from skimage.segmentation import mark_boundaries\n",
    "from matplotlib import pyplot as plt\n",
    "temp, mask = explanation.get_image_and_mask(preds.argsort()[0, -5:][::-1][0], positive_only=True, num_features=5, hide_rest=True)\n",
    "# plot image and mask together\n",
    "plt.imshow(mark_boundaries(temp / 2, mask))"
   ]
  },
  {
   "cell_type": "code",
   "execution_count": null,
   "metadata": {},
   "outputs": [],
   "source": []
  },
  {
   "cell_type": "code",
   "execution_count": 89,
   "metadata": {},
   "outputs": [],
   "source": [
    "Xi_ = np.squeeze(Xi)"
   ]
  },
  {
   "cell_type": "code",
   "execution_count": 90,
   "metadata": {},
   "outputs": [
    {
     "data": {
      "text/plain": [
       "78"
      ]
     },
     "execution_count": 90,
     "metadata": {},
     "output_type": "execute_result"
    }
   ],
   "source": [
    "superpixels = skimage.segmentation.quickshift(Xi_, kernel_size=4,max_dist=200, ratio=0.2)\n",
    "num_superpixels = np.unique(superpixels).shape[0]\n",
    "num_superpixels"
   ]
  },
  {
   "cell_type": "code",
   "execution_count": 91,
   "metadata": {},
   "outputs": [
    {
     "data": {
      "text/plain": [
       "<matplotlib.image.AxesImage at 0x4dfcf0350>"
      ]
     },
     "execution_count": 91,
     "metadata": {},
     "output_type": "execute_result"
    },
    {
     "data": {
      "image/png": "[encoded data removed]",
      "text/plain": [
       "<Figure size 640x480 with 1 Axes>"
      ]
     },
     "metadata": {},
     "output_type": "display_data"
    }
   ],
   "source": [
    "skimage.io.imshow(skimage.segmentation.mark_boundaries(Xi_, superpixels))"
   ]
  },
  {
   "cell_type": "code",
   "execution_count": 92,
   "metadata": {},
   "outputs": [
    {
     "data": {
      "text/plain": [
       "array([[1, 0, 1, ..., 1, 1, 1],\n",
       "       [0, 1, 1, ..., 0, 0, 1],\n",
       "       [0, 1, 0, ..., 0, 1, 1],\n",
       "       ...,\n",
       "       [0, 1, 0, ..., 0, 0, 1],\n",
       "       [0, 0, 0, ..., 0, 0, 1],\n",
       "       [0, 1, 1, ..., 1, 1, 0]])"
      ]
     },
     "execution_count": 92,
     "metadata": {},
     "output_type": "execute_result"
    }
   ],
   "source": [
    "num_perturb = 100\n",
    "perturbations = np.random.binomial(1, 0.5, size=(num_perturb, num_superpixels))\n",
    "perturbations#Show example of perturbatio"
   ]
  },
  {
   "cell_type": "code",
   "execution_count": 93,
   "metadata": {},
   "outputs": [],
   "source": [
    "def perturb_image(img,perturbation,segments):\n",
    "  active_pixels = np.where(perturbation == 1)[0]\n",
    "  mask = np.zeros(segments.shape)\n",
    "  for active in active_pixels:\n",
    "      mask[segments == active] = 1\n",
    "  perturbed_image = copy.deepcopy(img)\n",
    "  perturbed_image = perturbed_image*mask[:,:,np.newaxis]\n",
    "  return perturbed_image"
   ]
  },
  {
   "cell_type": "code",
   "execution_count": 94,
   "metadata": {},
   "outputs": [
    {
     "name": "stderr",
     "output_type": "stream",
     "text": [
      "/opt/anaconda3/lib/python3.11/site-packages/skimage/io/_plugins/matplotlib_plugin.py:149: UserWarning: Float image out of standard range; displaying image with stretched contrast.\n",
      "  lo, hi, cmap = _get_display_range(image)\n",
      "Clipping input data to the valid range for imshow with RGB data ([0..1] for floats or [0..255] for integers).\n"
     ]
    },
    {
     "data": {
      "text/plain": [
       "<matplotlib.image.AxesImage at 0x4dfd71250>"
      ]
     },
     "execution_count": 94,
     "metadata": {},
     "output_type": "execute_result"
    },
    {
     "data": {
      "image/png": "[encoded data removed]",
      "text/plain": [
       "<Figure size 640x480 with 2 Axes>"
      ]
     },
     "metadata": {},
     "output_type": "display_data"
    }
   ],
   "source": [
    "skimage.io.imshow(perturb_image(Xi_/0.5,perturbations[4],superpixels))"
   ]
  },
  {
   "cell_type": "code",
   "execution_count": 95,
   "metadata": {},
   "outputs": [
    {
     "name": "stdout",
     "output_type": "stream",
     "text": [
      "\u001b[1m1/1\u001b[0m \u001b[32m━━━━━━━━━━━━━━━━━━━━\u001b[0m\u001b[37m\u001b[0m \u001b[1m0s\u001b[0m 54ms/step\n",
      "\u001b[1m1/1\u001b[0m \u001b[32m━━━━━━━━━━━━━━━━━━━━\u001b[0m\u001b[37m\u001b[0m \u001b[1m0s\u001b[0m 10ms/step\n",
      "\u001b[1m1/1\u001b[0m \u001b[32m━━━━━━━━━━━━━━━━━━━━\u001b[0m\u001b[37m\u001b[0m \u001b[1m0s\u001b[0m 9ms/step\n",
      "\u001b[1m1/1\u001b[0m \u001b[32m━━━━━━━━━━━━━━━━━━━━\u001b[0m\u001b[37m\u001b[0m \u001b[1m0s\u001b[0m 11ms/step\n",
      "\u001b[1m1/1\u001b[0m \u001b[32m━━━━━━━━━━━━━━━━━━━━\u001b[0m\u001b[37m\u001b[0m \u001b[1m0s\u001b[0m 53ms/step\n",
      "\u001b[1m1/1\u001b[0m \u001b[32m━━━━━━━━━━━━━━━━━━━━\u001b[0m\u001b[37m\u001b[0m \u001b[1m0s\u001b[0m 9ms/step\n",
      "\u001b[1m1/1\u001b[0m \u001b[32m━━━━━━━━━━━━━━━━━━━━\u001b[0m\u001b[37m\u001b[0m \u001b[1m0s\u001b[0m 10ms/step\n",
      "\u001b[1m1/1\u001b[0m \u001b[32m━━━━━━━━━━━━━━━━━━━━\u001b[0m\u001b[37m\u001b[0m \u001b[1m0s\u001b[0m 10ms/step\n",
      "\u001b[1m1/1\u001b[0m \u001b[32m━━━━━━━━━━━━━━━━━━━━\u001b[0m\u001b[37m\u001b[0m \u001b[1m0s\u001b[0m 10ms/step\n",
      "\u001b[1m1/1\u001b[0m \u001b[32m━━━━━━━━━━━━━━━━━━━━\u001b[0m\u001b[37m\u001b[0m \u001b[1m0s\u001b[0m 9ms/step\n",
      "\u001b[1m1/1\u001b[0m \u001b[32m━━━━━━━━━━━━━━━━━━━━\u001b[0m\u001b[37m\u001b[0m \u001b[1m0s\u001b[0m 9ms/step\n",
      "\u001b[1m1/1\u001b[0m \u001b[32m━━━━━━━━━━━━━━━━━━━━\u001b[0m\u001b[37m\u001b[0m \u001b[1m0s\u001b[0m 10ms/step\n",
      "\u001b[1m1/1\u001b[0m \u001b[32m━━━━━━━━━━━━━━━━━━━━\u001b[0m\u001b[37m\u001b[0m \u001b[1m0s\u001b[0m 20ms/step\n",
      "\u001b[1m1/1\u001b[0m \u001b[32m━━━━━━━━━━━━━━━━━━━━\u001b[0m\u001b[37m\u001b[0m \u001b[1m0s\u001b[0m 11ms/step\n",
      "\u001b[1m1/1\u001b[0m \u001b[32m━━━━━━━━━━━━━━━━━━━━\u001b[0m\u001b[37m\u001b[0m \u001b[1m0s\u001b[0m 11ms/step\n",
      "\u001b[1m1/1\u001b[0m \u001b[32m━━━━━━━━━━━━━━━━━━━━\u001b[0m\u001b[37m\u001b[0m \u001b[1m0s\u001b[0m 12ms/step\n",
      "\u001b[1m1/1\u001b[0m \u001b[32m━━━━━━━━━━━━━━━━━━━━\u001b[0m\u001b[37m\u001b[0m \u001b[1m0s\u001b[0m 13ms/step\n",
      "\u001b[1m1/1\u001b[0m \u001b[32m━━━━━━━━━━━━━━━━━━━━\u001b[0m\u001b[37m\u001b[0m \u001b[1m0s\u001b[0m 10ms/step\n",
      "\u001b[1m1/1\u001b[0m \u001b[32m━━━━━━━━━━━━━━━━━━━━\u001b[0m\u001b[37m\u001b[0m \u001b[1m0s\u001b[0m 10ms/step\n",
      "\u001b[1m1/1\u001b[0m \u001b[32m━━━━━━━━━━━━━━━━━━━━\u001b[0m\u001b[37m\u001b[0m \u001b[1m0s\u001b[0m 10ms/step\n",
      "\u001b[1m1/1\u001b[0m \u001b[32m━━━━━━━━━━━━━━━━━━━━\u001b[0m\u001b[37m\u001b[0m \u001b[1m0s\u001b[0m 10ms/step\n",
      "\u001b[1m1/1\u001b[0m \u001b[32m━━━━━━━━━━━━━━━━━━━━\u001b[0m\u001b[37m\u001b[0m \u001b[1m0s\u001b[0m 9ms/step\n",
      "\u001b[1m1/1\u001b[0m \u001b[32m━━━━━━━━━━━━━━━━━━━━\u001b[0m\u001b[37m\u001b[0m \u001b[1m0s\u001b[0m 9ms/step\n",
      "\u001b[1m1/1\u001b[0m \u001b[32m━━━━━━━━━━━━━━━━━━━━\u001b[0m\u001b[37m\u001b[0m \u001b[1m0s\u001b[0m 9ms/step\n",
      "\u001b[1m1/1\u001b[0m \u001b[32m━━━━━━━━━━━━━━━━━━━━\u001b[0m\u001b[37m\u001b[0m \u001b[1m0s\u001b[0m 9ms/step\n",
      "\u001b[1m1/1\u001b[0m \u001b[32m━━━━━━━━━━━━━━━━━━━━\u001b[0m\u001b[37m\u001b[0m \u001b[1m0s\u001b[0m 9ms/step\n",
      "\u001b[1m1/1\u001b[0m \u001b[32m━━━━━━━━━━━━━━━━━━━━\u001b[0m\u001b[37m\u001b[0m \u001b[1m0s\u001b[0m 10ms/step\n",
      "\u001b[1m1/1\u001b[0m \u001b[32m━━━━━━━━━━━━━━━━━━━━\u001b[0m\u001b[37m\u001b[0m \u001b[1m0s\u001b[0m 10ms/step\n",
      "\u001b[1m1/1\u001b[0m \u001b[32m━━━━━━━━━━━━━━━━━━━━\u001b[0m\u001b[37m\u001b[0m \u001b[1m0s\u001b[0m 9ms/step\n",
      "\u001b[1m1/1\u001b[0m \u001b[32m━━━━━━━━━━━━━━━━━━━━\u001b[0m\u001b[37m\u001b[0m \u001b[1m0s\u001b[0m 9ms/step\n",
      "\u001b[1m1/1\u001b[0m \u001b[32m━━━━━━━━━━━━━━━━━━━━\u001b[0m\u001b[37m\u001b[0m \u001b[1m0s\u001b[0m 11ms/step\n",
      "\u001b[1m1/1\u001b[0m \u001b[32m━━━━━━━━━━━━━━━━━━━━\u001b[0m\u001b[37m\u001b[0m \u001b[1m0s\u001b[0m 10ms/step\n",
      "\u001b[1m1/1\u001b[0m \u001b[32m━━━━━━━━━━━━━━━━━━━━\u001b[0m\u001b[37m\u001b[0m \u001b[1m0s\u001b[0m 9ms/step\n",
      "\u001b[1m1/1\u001b[0m \u001b[32m━━━━━━━━━━━━━━━━━━━━\u001b[0m\u001b[37m\u001b[0m \u001b[1m0s\u001b[0m 10ms/step\n",
      "\u001b[1m1/1\u001b[0m \u001b[32m━━━━━━━━━━━━━━━━━━━━\u001b[0m\u001b[37m\u001b[0m \u001b[1m0s\u001b[0m 9ms/step\n",
      "\u001b[1m1/1\u001b[0m \u001b[32m━━━━━━━━━━━━━━━━━━━━\u001b[0m\u001b[37m\u001b[0m \u001b[1m0s\u001b[0m 9ms/step\n",
      "\u001b[1m1/1\u001b[0m \u001b[32m━━━━━━━━━━━━━━━━━━━━\u001b[0m\u001b[37m\u001b[0m \u001b[1m0s\u001b[0m 9ms/step\n",
      "\u001b[1m1/1\u001b[0m \u001b[32m━━━━━━━━━━━━━━━━━━━━\u001b[0m\u001b[37m\u001b[0m \u001b[1m0s\u001b[0m 11ms/step\n",
      "\u001b[1m1/1\u001b[0m \u001b[32m━━━━━━━━━━━━━━━━━━━━\u001b[0m\u001b[37m\u001b[0m \u001b[1m0s\u001b[0m 10ms/step\n",
      "\u001b[1m1/1\u001b[0m \u001b[32m━━━━━━━━━━━━━━━━━━━━\u001b[0m\u001b[37m\u001b[0m \u001b[1m0s\u001b[0m 13ms/step\n",
      "\u001b[1m1/1\u001b[0m \u001b[32m━━━━━━━━━━━━━━━━━━━━\u001b[0m\u001b[37m\u001b[0m \u001b[1m0s\u001b[0m 9ms/step\n",
      "\u001b[1m1/1\u001b[0m \u001b[32m━━━━━━━━━━━━━━━━━━━━\u001b[0m\u001b[37m\u001b[0m \u001b[1m0s\u001b[0m 9ms/step\n",
      "\u001b[1m1/1\u001b[0m \u001b[32m━━━━━━━━━━━━━━━━━━━━\u001b[0m\u001b[37m\u001b[0m \u001b[1m0s\u001b[0m 12ms/step\n",
      "\u001b[1m1/1\u001b[0m \u001b[32m━━━━━━━━━━━━━━━━━━━━\u001b[0m\u001b[37m\u001b[0m \u001b[1m0s\u001b[0m 10ms/step\n",
      "\u001b[1m1/1\u001b[0m \u001b[32m━━━━━━━━━━━━━━━━━━━━\u001b[0m\u001b[37m\u001b[0m \u001b[1m0s\u001b[0m 9ms/step\n",
      "\u001b[1m1/1\u001b[0m \u001b[32m━━━━━━━━━━━━━━━━━━━━\u001b[0m\u001b[37m\u001b[0m \u001b[1m0s\u001b[0m 10ms/step\n",
      "\u001b[1m1/1\u001b[0m \u001b[32m━━━━━━━━━━━━━━━━━━━━\u001b[0m\u001b[37m\u001b[0m \u001b[1m0s\u001b[0m 11ms/step\n",
      "\u001b[1m1/1\u001b[0m \u001b[32m━━━━━━━━━━━━━━━━━━━━\u001b[0m\u001b[37m\u001b[0m \u001b[1m0s\u001b[0m 12ms/step\n",
      "\u001b[1m1/1\u001b[0m \u001b[32m━━━━━━━━━━━━━━━━━━━━\u001b[0m\u001b[37m\u001b[0m \u001b[1m0s\u001b[0m 10ms/step\n",
      "\u001b[1m1/1\u001b[0m \u001b[32m━━━━━━━━━━━━━━━━━━━━\u001b[0m\u001b[37m\u001b[0m \u001b[1m0s\u001b[0m 10ms/step\n",
      "\u001b[1m1/1\u001b[0m \u001b[32m━━━━━━━━━━━━━━━━━━━━\u001b[0m\u001b[37m\u001b[0m \u001b[1m0s\u001b[0m 39ms/step\n",
      "\u001b[1m1/1\u001b[0m \u001b[32m━━━━━━━━━━━━━━━━━━━━\u001b[0m\u001b[37m\u001b[0m \u001b[1m0s\u001b[0m 11ms/step\n",
      "\u001b[1m1/1\u001b[0m \u001b[32m━━━━━━━━━━━━━━━━━━━━\u001b[0m\u001b[37m\u001b[0m \u001b[1m0s\u001b[0m 9ms/step\n",
      "\u001b[1m1/1\u001b[0m \u001b[32m━━━━━━━━━━━━━━━━━━━━\u001b[0m\u001b[37m\u001b[0m \u001b[1m0s\u001b[0m 9ms/step\n",
      "\u001b[1m1/1\u001b[0m \u001b[32m━━━━━━━━━━━━━━━━━━━━\u001b[0m\u001b[37m\u001b[0m \u001b[1m0s\u001b[0m 9ms/step\n",
      "\u001b[1m1/1\u001b[0m \u001b[32m━━━━━━━━━━━━━━━━━━━━\u001b[0m\u001b[37m\u001b[0m \u001b[1m0s\u001b[0m 9ms/step\n",
      "\u001b[1m1/1\u001b[0m \u001b[32m━━━━━━━━━━━━━━━━━━━━\u001b[0m\u001b[37m\u001b[0m \u001b[1m0s\u001b[0m 9ms/step\n",
      "\u001b[1m1/1\u001b[0m \u001b[32m━━━━━━━━━━━━━━━━━━━━\u001b[0m\u001b[37m\u001b[0m \u001b[1m0s\u001b[0m 9ms/step\n",
      "\u001b[1m1/1\u001b[0m \u001b[32m━━━━━━━━━━━━━━━━━━━━\u001b[0m\u001b[37m\u001b[0m \u001b[1m0s\u001b[0m 9ms/step\n",
      "\u001b[1m1/1\u001b[0m \u001b[32m━━━━━━━━━━━━━━━━━━━━\u001b[0m\u001b[37m\u001b[0m \u001b[1m0s\u001b[0m 9ms/step\n",
      "\u001b[1m1/1\u001b[0m \u001b[32m━━━━━━━━━━━━━━━━━━━━\u001b[0m\u001b[37m\u001b[0m \u001b[1m0s\u001b[0m 9ms/step\n",
      "\u001b[1m1/1\u001b[0m \u001b[32m━━━━━━━━━━━━━━━━━━━━\u001b[0m\u001b[37m\u001b[0m \u001b[1m0s\u001b[0m 9ms/step\n",
      "\u001b[1m1/1\u001b[0m \u001b[32m━━━━━━━━━━━━━━━━━━━━\u001b[0m\u001b[37m\u001b[0m \u001b[1m0s\u001b[0m 9ms/step\n",
      "\u001b[1m1/1\u001b[0m \u001b[32m━━━━━━━━━━━━━━━━━━━━\u001b[0m\u001b[37m\u001b[0m \u001b[1m0s\u001b[0m 9ms/step\n",
      "\u001b[1m1/1\u001b[0m \u001b[32m━━━━━━━━━━━━━━━━━━━━\u001b[0m\u001b[37m\u001b[0m \u001b[1m0s\u001b[0m 9ms/step\n",
      "\u001b[1m1/1\u001b[0m \u001b[32m━━━━━━━━━━━━━━━━━━━━\u001b[0m\u001b[37m\u001b[0m \u001b[1m0s\u001b[0m 9ms/step\n",
      "\u001b[1m1/1\u001b[0m \u001b[32m━━━━━━━━━━━━━━━━━━━━\u001b[0m\u001b[37m\u001b[0m \u001b[1m0s\u001b[0m 10ms/step\n",
      "\u001b[1m1/1\u001b[0m \u001b[32m━━━━━━━━━━━━━━━━━━━━\u001b[0m\u001b[37m\u001b[0m \u001b[1m0s\u001b[0m 10ms/step\n",
      "\u001b[1m1/1\u001b[0m \u001b[32m━━━━━━━━━━━━━━━━━━━━\u001b[0m\u001b[37m\u001b[0m \u001b[1m0s\u001b[0m 9ms/step\n",
      "\u001b[1m1/1\u001b[0m \u001b[32m━━━━━━━━━━━━━━━━━━━━\u001b[0m\u001b[37m\u001b[0m \u001b[1m0s\u001b[0m 10ms/step\n",
      "\u001b[1m1/1\u001b[0m \u001b[32m━━━━━━━━━━━━━━━━━━━━\u001b[0m\u001b[37m\u001b[0m \u001b[1m0s\u001b[0m 10ms/step\n",
      "\u001b[1m1/1\u001b[0m \u001b[32m━━━━━━━━━━━━━━━━━━━━\u001b[0m\u001b[37m\u001b[0m \u001b[1m0s\u001b[0m 11ms/step\n",
      "\u001b[1m1/1\u001b[0m \u001b[32m━━━━━━━━━━━━━━━━━━━━\u001b[0m\u001b[37m\u001b[0m \u001b[1m0s\u001b[0m 9ms/step\n",
      "\u001b[1m1/1\u001b[0m \u001b[32m━━━━━━━━━━━━━━━━━━━━\u001b[0m\u001b[37m\u001b[0m \u001b[1m0s\u001b[0m 9ms/step\n",
      "\u001b[1m1/1\u001b[0m \u001b[32m━━━━━━━━━━━━━━━━━━━━\u001b[0m\u001b[37m\u001b[0m \u001b[1m0s\u001b[0m 9ms/step\n",
      "\u001b[1m1/1\u001b[0m \u001b[32m━━━━━━━━━━━━━━━━━━━━\u001b[0m\u001b[37m\u001b[0m \u001b[1m0s\u001b[0m 10ms/step\n",
      "\u001b[1m1/1\u001b[0m \u001b[32m━━━━━━━━━━━━━━━━━━━━\u001b[0m\u001b[37m\u001b[0m \u001b[1m0s\u001b[0m 9ms/step\n",
      "\u001b[1m1/1\u001b[0m \u001b[32m━━━━━━━━━━━━━━━━━━━━\u001b[0m\u001b[37m\u001b[0m \u001b[1m0s\u001b[0m 9ms/step\n",
      "\u001b[1m1/1\u001b[0m \u001b[32m━━━━━━━━━━━━━━━━━━━━\u001b[0m\u001b[37m\u001b[0m \u001b[1m0s\u001b[0m 9ms/step\n",
      "\u001b[1m1/1\u001b[0m \u001b[32m━━━━━━━━━━━━━━━━━━━━\u001b[0m\u001b[37m\u001b[0m \u001b[1m0s\u001b[0m 9ms/step\n",
      "\u001b[1m1/1\u001b[0m \u001b[32m━━━━━━━━━━━━━━━━━━━━\u001b[0m\u001b[37m\u001b[0m \u001b[1m0s\u001b[0m 10ms/step\n",
      "\u001b[1m1/1\u001b[0m \u001b[32m━━━━━━━━━━━━━━━━━━━━\u001b[0m\u001b[37m\u001b[0m \u001b[1m0s\u001b[0m 9ms/step\n",
      "\u001b[1m1/1\u001b[0m \u001b[32m━━━━━━━━━━━━━━━━━━━━\u001b[0m\u001b[37m\u001b[0m \u001b[1m0s\u001b[0m 10ms/step\n",
      "\u001b[1m1/1\u001b[0m \u001b[32m━━━━━━━━━━━━━━━━━━━━\u001b[0m\u001b[37m\u001b[0m \u001b[1m0s\u001b[0m 10ms/step\n",
      "\u001b[1m1/1\u001b[0m \u001b[32m━━━━━━━━━━━━━━━━━━━━\u001b[0m\u001b[37m\u001b[0m \u001b[1m0s\u001b[0m 9ms/step\n",
      "\u001b[1m1/1\u001b[0m \u001b[32m━━━━━━━━━━━━━━━━━━━━\u001b[0m\u001b[37m\u001b[0m \u001b[1m0s\u001b[0m 9ms/step\n",
      "\u001b[1m1/1\u001b[0m \u001b[32m━━━━━━━━━━━━━━━━━━━━\u001b[0m\u001b[37m\u001b[0m \u001b[1m0s\u001b[0m 9ms/step\n",
      "\u001b[1m1/1\u001b[0m \u001b[32m━━━━━━━━━━━━━━━━━━━━\u001b[0m\u001b[37m\u001b[0m \u001b[1m0s\u001b[0m 9ms/step\n",
      "\u001b[1m1/1\u001b[0m \u001b[32m━━━━━━━━━━━━━━━━━━━━\u001b[0m\u001b[37m\u001b[0m \u001b[1m0s\u001b[0m 9ms/step\n",
      "\u001b[1m1/1\u001b[0m \u001b[32m━━━━━━━━━━━━━━━━━━━━\u001b[0m\u001b[37m\u001b[0m \u001b[1m0s\u001b[0m 9ms/step\n",
      "\u001b[1m1/1\u001b[0m \u001b[32m━━━━━━━━━━━━━━━━━━━━\u001b[0m\u001b[37m\u001b[0m \u001b[1m0s\u001b[0m 10ms/step\n",
      "\u001b[1m1/1\u001b[0m \u001b[32m━━━━━━━━━━━━━━━━━━━━\u001b[0m\u001b[37m\u001b[0m \u001b[1m0s\u001b[0m 9ms/step\n",
      "\u001b[1m1/1\u001b[0m \u001b[32m━━━━━━━━━━━━━━━━━━━━\u001b[0m\u001b[37m\u001b[0m \u001b[1m0s\u001b[0m 10ms/step\n",
      "\u001b[1m1/1\u001b[0m \u001b[32m━━━━━━━━━━━━━━━━━━━━\u001b[0m\u001b[37m\u001b[0m \u001b[1m0s\u001b[0m 10ms/step\n",
      "\u001b[1m1/1\u001b[0m \u001b[32m━━━━━━━━━━━━━━━━━━━━\u001b[0m\u001b[37m\u001b[0m \u001b[1m0s\u001b[0m 9ms/step\n",
      "\u001b[1m1/1\u001b[0m \u001b[32m━━━━━━━━━━━━━━━━━━━━\u001b[0m\u001b[37m\u001b[0m \u001b[1m0s\u001b[0m 9ms/step\n",
      "\u001b[1m1/1\u001b[0m \u001b[32m━━━━━━━━━━━━━━━━━━━━\u001b[0m\u001b[37m\u001b[0m \u001b[1m0s\u001b[0m 9ms/step\n",
      "\u001b[1m1/1\u001b[0m \u001b[32m━━━━━━━━━━━━━━━━━━━━\u001b[0m\u001b[37m\u001b[0m \u001b[1m0s\u001b[0m 9ms/step\n",
      "\u001b[1m1/1\u001b[0m \u001b[32m━━━━━━━━━━━━━━━━━━━━\u001b[0m\u001b[37m\u001b[0m \u001b[1m0s\u001b[0m 10ms/step\n",
      "\u001b[1m1/1\u001b[0m \u001b[32m━━━━━━━━━━━━━━━━━━━━\u001b[0m\u001b[37m\u001b[0m \u001b[1m0s\u001b[0m 11ms/step\n"
     ]
    },
    {
     "data": {
      "text/plain": [
       "array([[[2.18061404e-03, 3.17428756e-04, 9.97497618e-01, 4.29108104e-06]],\n",
       "\n",
       "       [[9.15289507e-04, 3.39817620e-06, 9.99081254e-01, 7.71910530e-13]],\n",
       "\n",
       "       [[4.15926886e-04, 1.46038046e-05, 9.99569356e-01, 2.83731882e-09]],\n",
       "\n",
       "       [[6.11646706e-03, 1.86251593e-04, 9.93697345e-01, 1.27536284e-08]],\n",
       "\n",
       "       [[3.93875951e-07, 3.62249602e-06, 9.99996066e-01, 1.44021284e-09]],\n",
       "\n",
       "       [[4.26134095e-02, 8.28916114e-03, 9.49074209e-01, 2.31899321e-05]],\n",
       "\n",
       "       [[2.46865470e-02, 7.36521441e-04, 9.74574268e-01, 2.76947230e-06]],\n",
       "\n",
       "       [[2.72829719e-02, 1.84130995e-03, 9.70875263e-01, 4.07483412e-07]],\n",
       "\n",
       "       [[3.57462279e-03, 7.49646162e-04, 9.95675743e-01, 5.57238167e-08]],\n",
       "\n",
       "       [[1.20767288e-01, 6.22688895e-05, 8.79153013e-01, 1.75307487e-05]],\n",
       "\n",
       "       [[7.44344085e-04, 2.38284143e-03, 9.96871769e-01, 1.00987552e-06]],\n",
       "\n",
       "       [[1.28986165e-01, 1.52525085e-03, 8.68626475e-01, 8.62203189e-04]],\n",
       "\n",
       "       [[4.82729562e-02, 3.60645536e-05, 9.51690972e-01, 3.36449943e-08]],\n",
       "\n",
       "       [[4.52801228e-01, 1.48310000e-03, 5.45582056e-01, 1.33602647e-04]],\n",
       "\n",
       "       [[5.91052592e-01, 2.06304863e-02, 3.61522436e-01, 2.67945211e-02]],\n",
       "\n",
       "       [[4.11308691e-04, 8.16004285e-06, 9.99580443e-01, 4.91288503e-08]],\n",
       "\n",
       "       [[2.86701870e-05, 6.64059990e-05, 9.99904871e-01, 2.44826577e-08]],\n",
       "\n",
       "       [[9.42132592e-01, 5.97672442e-05, 5.77796176e-02, 2.80557615e-05]],\n",
       "\n",
       "       [[1.65088553e-04, 9.12625983e-04, 9.98918891e-01, 3.46328147e-06]],\n",
       "\n",
       "       [[5.85404873e-01, 1.78760209e-03, 4.12807405e-01, 8.16250605e-08]],\n",
       "\n",
       "       [[9.35866501e-06, 1.41462169e-06, 9.99989152e-01, 3.21041943e-11]],\n",
       "\n",
       "       [[1.47116929e-02, 3.80766171e-04, 9.84763443e-01, 1.44064848e-04]],\n",
       "\n",
       "       [[3.56142737e-05, 7.23060977e-04, 9.99231219e-01, 1.00739890e-05]],\n",
       "\n",
       "       [[2.20861868e-03, 2.36307824e-06, 9.97789025e-01, 9.52248211e-11]],\n",
       "\n",
       "       [[1.26494924e-04, 7.63863427e-05, 9.99797165e-01, 2.75474044e-09]],\n",
       "\n",
       "       [[7.85687065e-04, 9.40176600e-04, 9.98273969e-01, 1.90579826e-07]],\n",
       "\n",
       "       [[8.55190493e-03, 3.87302367e-03, 9.87544835e-01, 3.03059242e-05]],\n",
       "\n",
       "       [[5.96326828e-08, 2.49818254e-06, 9.99997377e-01, 1.64050787e-11]],\n",
       "\n",
       "       [[2.43845061e-05, 9.23853634e-07, 9.99974608e-01, 8.02096497e-12]],\n",
       "\n",
       "       [[1.88780818e-04, 8.32304431e-05, 9.99727905e-01, 2.16869651e-08]],\n",
       "\n",
       "       [[2.80821789e-03, 8.31165537e-03, 9.88317072e-01, 5.62995265e-04]],\n",
       "\n",
       "       [[4.20722074e-07, 3.64510815e-05, 9.99963045e-01, 1.79639841e-08]],\n",
       "\n",
       "       [[2.41588475e-03, 7.47772647e-05, 9.97509241e-01, 2.26002617e-09]],\n",
       "\n",
       "       [[2.77806167e-03, 1.13096939e-04, 9.97108757e-01, 4.80947593e-09]],\n",
       "\n",
       "       [[9.86316008e-05, 3.88539502e-06, 9.99897480e-01, 2.54178989e-09]],\n",
       "\n",
       "       [[8.01937404e-06, 1.07914539e-05, 9.99981046e-01, 1.63137017e-07]],\n",
       "\n",
       "       [[1.33758613e-06, 3.34509677e-04, 9.99663472e-01, 6.70419240e-07]],\n",
       "\n",
       "       [[6.36424156e-05, 2.85643491e-05, 9.99907732e-01, 1.59570952e-08]],\n",
       "\n",
       "       [[2.40245921e-04, 1.17256632e-05, 9.99747932e-01, 6.61117099e-08]],\n",
       "\n",
       "       [[1.57807171e-01, 8.56079059e-05, 8.42107236e-01, 6.68110456e-10]],\n",
       "\n",
       "       [[1.50653031e-02, 6.77022108e-05, 9.84863341e-01, 3.65334859e-06]],\n",
       "\n",
       "       [[6.89292889e-08, 3.49966558e-06, 9.99996424e-01, 2.39119679e-11]],\n",
       "\n",
       "       [[4.58136527e-03, 1.41744149e-05, 9.95404482e-01, 1.95230609e-09]],\n",
       "\n",
       "       [[1.25913677e-04, 3.67399654e-03, 9.96197104e-01, 3.03566685e-06]],\n",
       "\n",
       "       [[6.72625750e-02, 1.25812944e-02, 9.20124531e-01, 3.15078905e-05]],\n",
       "\n",
       "       [[2.78992113e-04, 1.26470317e-04, 9.99591172e-01, 3.43729175e-06]],\n",
       "\n",
       "       [[1.15303660e-03, 6.09098015e-06, 9.98840868e-01, 2.15828777e-08]],\n",
       "\n",
       "       [[6.76642917e-03, 1.56386031e-05, 9.93217885e-01, 8.68685568e-09]],\n",
       "\n",
       "       [[9.02716637e-01, 9.71045811e-04, 9.62432623e-02, 6.90614252e-05]],\n",
       "\n",
       "       [[4.58120462e-03, 8.55611870e-05, 9.95313168e-01, 2.00735612e-05]],\n",
       "\n",
       "       [[3.48680164e-03, 6.94362316e-05, 9.96443689e-01, 1.00858969e-07]],\n",
       "\n",
       "       [[1.21824117e-02, 1.18774502e-03, 9.86290514e-01, 3.39275517e-04]],\n",
       "\n",
       "       [[2.73884926e-03, 1.66763966e-05, 9.97244120e-01, 2.93226037e-07]],\n",
       "\n",
       "       [[1.13544256e-05, 8.32854945e-04, 9.99155879e-01, 6.38556363e-09]],\n",
       "\n",
       "       [[9.34327254e-05, 8.78701627e-04, 9.99027729e-01, 5.75653303e-08]],\n",
       "\n",
       "       [[1.16968091e-04, 2.04403550e-04, 9.99678254e-01, 3.76195402e-07]],\n",
       "\n",
       "       [[5.41882753e-01, 6.42501097e-03, 4.51591790e-01, 1.00402438e-04]],\n",
       "\n",
       "       [[1.16653606e-01, 1.09384338e-04, 8.83236945e-01, 1.13830751e-07]],\n",
       "\n",
       "       [[2.35571130e-03, 2.13154908e-05, 9.97622907e-01, 1.49722695e-07]],\n",
       "\n",
       "       [[2.10582372e-03, 2.30184855e-06, 9.97891963e-01, 1.00083031e-09]],\n",
       "\n",
       "       [[1.65932102e-03, 1.09196908e-03, 9.97061312e-01, 1.87472790e-04]],\n",
       "\n",
       "       [[9.03888795e-05, 1.76228004e-05, 9.99891996e-01, 1.40156187e-09]],\n",
       "\n",
       "       [[2.24578821e-06, 4.61418211e-04, 9.99535322e-01, 1.02448519e-06]],\n",
       "\n",
       "       [[3.09364591e-03, 2.57114007e-05, 9.96880531e-01, 4.09514023e-08]],\n",
       "\n",
       "       [[2.28702580e-03, 4.19029646e-04, 9.97293770e-01, 1.15721221e-07]],\n",
       "\n",
       "       [[5.29556019e-05, 2.96551996e-04, 9.99650359e-01, 1.34425477e-07]],\n",
       "\n",
       "       [[6.06588498e-02, 1.19609386e-03, 9.37486947e-01, 6.58023811e-04]],\n",
       "\n",
       "       [[1.85630016e-03, 1.25847910e-05, 9.98131096e-01, 2.93145286e-09]],\n",
       "\n",
       "       [[1.08049577e-03, 1.14303804e-03, 9.97776091e-01, 3.45399059e-07]],\n",
       "\n",
       "       [[1.06577063e-03, 2.31973594e-03, 9.95831192e-01, 7.83228374e-04]],\n",
       "\n",
       "       [[1.89880341e-01, 1.43233594e-02, 7.95785964e-01, 1.03951743e-05]],\n",
       "\n",
       "       [[1.89390138e-03, 7.22440564e-06, 9.98098910e-01, 1.34741301e-10]],\n",
       "\n",
       "       [[3.32391169e-03, 2.79774133e-04, 9.96396124e-01, 2.15593630e-07]],\n",
       "\n",
       "       [[1.65693389e-04, 1.87019852e-03, 9.97945487e-01, 1.86458419e-05]],\n",
       "\n",
       "       [[6.67936110e-04, 1.56766851e-03, 9.97755110e-01, 9.30258648e-06]],\n",
       "\n",
       "       [[9.92916976e-05, 5.35581348e-05, 9.99847174e-01, 1.12064278e-08]],\n",
       "\n",
       "       [[4.10676142e-03, 1.33593031e-03, 9.94530022e-01, 2.73484475e-05]],\n",
       "\n",
       "       [[6.83917571e-03, 3.55756551e-04, 9.92804706e-01, 3.34977102e-07]],\n",
       "\n",
       "       [[1.37491440e-06, 5.10371081e-07, 9.99998093e-01, 1.13830412e-11]],\n",
       "\n",
       "       [[5.85854411e-01, 3.24685796e-04, 4.13819969e-01, 8.76869251e-07]],\n",
       "\n",
       "       [[6.09740010e-03, 2.28086347e-03, 9.91619468e-01, 2.30482510e-06]],\n",
       "\n",
       "       [[9.84117796e-05, 5.77349674e-05, 9.99843478e-01, 2.71401319e-07]],\n",
       "\n",
       "       [[2.85398215e-03, 1.70866342e-03, 9.95436013e-01, 1.31671868e-06]],\n",
       "\n",
       "       [[2.92486366e-04, 1.44627097e-03, 9.98261273e-01, 1.09122000e-08]],\n",
       "\n",
       "       [[3.42503918e-04, 3.19696301e-05, 9.99625444e-01, 7.12110619e-08]],\n",
       "\n",
       "       [[4.47152071e-02, 3.21523361e-02, 9.23041224e-01, 9.12129835e-05]],\n",
       "\n",
       "       [[2.96137720e-01, 3.74017982e-03, 7.00120449e-01, 1.65108349e-06]],\n",
       "\n",
       "       [[9.89590306e-04, 6.45575754e-04, 9.98364866e-01, 1.67732797e-08]],\n",
       "\n",
       "       [[8.34734635e-07, 5.72998288e-05, 9.99941826e-01, 2.42736098e-09]],\n",
       "\n",
       "       [[5.14666841e-04, 2.89521086e-05, 9.99456346e-01, 1.39206202e-10]],\n",
       "\n",
       "       [[4.14091069e-03, 1.53381829e-04, 9.95705664e-01, 9.53040313e-08]],\n",
       "\n",
       "       [[6.35733455e-03, 9.75025032e-05, 9.93545055e-01, 7.64168533e-08]],\n",
       "\n",
       "       [[2.36076055e-04, 1.01983882e-04, 9.99650121e-01, 1.18006737e-05]],\n",
       "\n",
       "       [[1.91063713e-03, 3.02155076e-05, 9.98059094e-01, 7.23407514e-11]],\n",
       "\n",
       "       [[1.10500352e-02, 3.68769775e-04, 9.88581002e-01, 2.32179374e-07]],\n",
       "\n",
       "       [[2.15995461e-01, 6.49957359e-02, 6.92549467e-01, 2.64593251e-02]],\n",
       "\n",
       "       [[1.19579710e-01, 5.45221323e-04, 8.79533350e-01, 3.41717328e-04]],\n",
       "\n",
       "       [[1.24735115e-02, 1.29450171e-04, 9.87397015e-01, 1.29301112e-08]],\n",
       "\n",
       "       [[2.46935770e-06, 4.49695362e-05, 9.99952435e-01, 1.16649716e-07]],\n",
       "\n",
       "       [[3.74185015e-03, 2.64649652e-03, 9.93596911e-01, 1.47769215e-05]]],\n",
       "      dtype=float32)"
      ]
     },
     "execution_count": 95,
     "metadata": {},
     "output_type": "execute_result"
    }
   ],
   "source": [
    "predictions = []\n",
    "for pert in perturbations:\n",
    "  perturbed_img = perturb_image(Xi,pert,superpixels)\n",
    "  pred = model.predict(perturbed_img)\n",
    "  predictions.append(pred)\n",
    "\n",
    "predictions = np.array(predictions)\n",
    "predictions"
   ]
  },
  {
   "cell_type": "code",
   "execution_count": 97,
   "metadata": {},
   "outputs": [
    {
     "name": "stdout",
     "output_type": "stream",
     "text": [
      "0\n",
      "[[2.18061404e-03]\n",
      " [9.15289507e-04]\n",
      " [4.15926886e-04]\n",
      " [6.11646706e-03]\n",
      " [3.93875951e-07]\n",
      " [4.26134095e-02]\n",
      " [2.46865470e-02]\n",
      " [2.72829719e-02]\n",
      " [3.57462279e-03]\n",
      " [1.20767288e-01]\n",
      " [7.44344085e-04]\n",
      " [1.28986165e-01]\n",
      " [4.82729562e-02]\n",
      " [4.52801228e-01]\n",
      " [5.91052592e-01]\n",
      " [4.11308691e-04]\n",
      " [2.86701870e-05]\n",
      " [9.42132592e-01]\n",
      " [1.65088553e-04]\n",
      " [5.85404873e-01]\n",
      " [9.35866501e-06]\n",
      " [1.47116929e-02]\n",
      " [3.56142737e-05]\n",
      " [2.20861868e-03]\n",
      " [1.26494924e-04]\n",
      " [7.85687065e-04]\n",
      " [8.55190493e-03]\n",
      " [5.96326828e-08]\n",
      " [2.43845061e-05]\n",
      " [1.88780818e-04]\n",
      " [2.80821789e-03]\n",
      " [4.20722074e-07]\n",
      " [2.41588475e-03]\n",
      " [2.77806167e-03]\n",
      " [9.86316008e-05]\n",
      " [8.01937404e-06]\n",
      " [1.33758613e-06]\n",
      " [6.36424156e-05]\n",
      " [2.40245921e-04]\n",
      " [1.57807171e-01]\n",
      " [1.50653031e-02]\n",
      " [6.89292889e-08]\n",
      " [4.58136527e-03]\n",
      " [1.25913677e-04]\n",
      " [6.72625750e-02]\n",
      " [2.78992113e-04]\n",
      " [1.15303660e-03]\n",
      " [6.76642917e-03]\n",
      " [9.02716637e-01]\n",
      " [4.58120462e-03]\n",
      " [3.48680164e-03]\n",
      " [1.21824117e-02]\n",
      " [2.73884926e-03]\n",
      " [1.13544256e-05]\n",
      " [9.34327254e-05]\n",
      " [1.16968091e-04]\n",
      " [5.41882753e-01]\n",
      " [1.16653606e-01]\n",
      " [2.35571130e-03]\n",
      " [2.10582372e-03]\n",
      " [1.65932102e-03]\n",
      " [9.03888795e-05]\n",
      " [2.24578821e-06]\n",
      " [3.09364591e-03]\n",
      " [2.28702580e-03]\n",
      " [5.29556019e-05]\n",
      " [6.06588498e-02]\n",
      " [1.85630016e-03]\n",
      " [1.08049577e-03]\n",
      " [1.06577063e-03]\n",
      " [1.89880341e-01]\n",
      " [1.89390138e-03]\n",
      " [3.32391169e-03]\n",
      " [1.65693389e-04]\n",
      " [6.67936110e-04]\n",
      " [9.92916976e-05]\n",
      " [4.10676142e-03]\n",
      " [6.83917571e-03]\n",
      " [1.37491440e-06]\n",
      " [5.85854411e-01]\n",
      " [6.09740010e-03]\n",
      " [9.84117796e-05]\n",
      " [2.85398215e-03]\n",
      " [2.92486366e-04]\n",
      " [3.42503918e-04]\n",
      " [4.47152071e-02]\n",
      " [2.96137720e-01]\n",
      " [9.89590306e-04]\n",
      " [8.34734635e-07]\n",
      " [5.14666841e-04]\n",
      " [4.14091069e-03]\n",
      " [6.35733455e-03]\n",
      " [2.36076055e-04]\n",
      " [1.91063713e-03]\n",
      " [1.10500352e-02]\n",
      " [2.15995461e-01]\n",
      " [1.19579710e-01]\n",
      " [1.24735115e-02]\n",
      " [2.46935770e-06]\n",
      " [3.74185015e-03]]\n"
     ]
    }
   ],
   "source": [
    "top_pred_classes = preds[0].argsort()[-5:][::-1]\n",
    "print(top_pred_classes[0])\n",
    "class_to_explain = top_pred_classes[0]\n",
    "print(predictions[:,:,class_to_explain])"
   ]
  },
  {
   "cell_type": "code",
   "execution_count": 98,
   "metadata": {},
   "outputs": [
    {
     "data": {
      "text/plain": [
       "(100,)"
      ]
     },
     "execution_count": 98,
     "metadata": {},
     "output_type": "execute_result"
    }
   ],
   "source": [
    "original_image = np.ones(num_superpixels)[np.newaxis,:] #Perturbation with all superpixels enabled\n",
    "distances = sklearn.metrics.pairwise_distances(perturbations,original_image, metric='cosine').ravel()\n",
    "distances.shape"
   ]
  },
  {
   "cell_type": "code",
   "execution_count": 99,
   "metadata": {},
   "outputs": [
    {
     "data": {
      "text/plain": [
       "(100,)"
      ]
     },
     "execution_count": 99,
     "metadata": {},
     "output_type": "execute_result"
    }
   ],
   "source": [
    "kernel_width = 0.25\n",
    "weights = np.sqrt(np.exp(-(distances**2)/kernel_width**2)) #Kernel function\n",
    "weights.shape"
   ]
  },
  {
   "cell_type": "code",
   "execution_count": 100,
   "metadata": {},
   "outputs": [
    {
     "name": "stdout",
     "output_type": "stream",
     "text": [
      "[0 3 1 2]\n"
     ]
    },
    {
     "data": {
      "text/plain": [
       "array([ 0.00126618,  0.11806869, -0.00555543, -0.01117388,  0.0316451 ,\n",
       "        0.04323698, -0.02368548,  0.04178375, -0.01877172, -0.14042092,\n",
       "       -0.0158767 ,  0.00719683, -0.01369773, -0.00720764,  0.01732139,\n",
       "        0.01145144,  0.0292883 , -0.0088695 ,  0.13870836,  0.06576101,\n",
       "        0.09162204, -0.0049202 , -0.05837294,  0.0314316 , -0.05858385,\n",
       "        0.0030576 ,  0.03203944, -0.04076547, -0.08863559, -0.00466925,\n",
       "        0.04205771,  0.06650989,  0.00715573,  0.01432397,  0.12536094,\n",
       "        0.03038491,  0.03001536, -0.00476697,  0.09382489, -0.13469787,\n",
       "       -0.0268848 , -0.01238494, -0.05503417,  0.09421601,  0.14653489,\n",
       "        0.13221129, -0.04006643,  0.13910679,  0.02632741,  0.01644092,\n",
       "        0.04982723, -0.03724648,  0.03467088, -0.101953  ,  0.04847335,\n",
       "        0.02887759,  0.06653223, -0.02990713,  0.07775668,  0.01443784,\n",
       "        0.01525481, -0.13120704, -0.04328771, -0.12683858, -0.00906124,\n",
       "        0.0790615 ,  0.0245335 , -0.01372693, -0.05197036, -0.08373752,\n",
       "       -0.0177003 , -0.01797838,  0.04620603, -0.03279553,  0.04365731,\n",
       "       -0.0042606 , -0.10700948,  0.12456401])"
      ]
     },
     "execution_count": 100,
     "metadata": {},
     "output_type": "execute_result"
    }
   ],
   "source": [
    "top_pred_classes = preds[0].argsort()[-5:][::-1]\n",
    "print(top_pred_classes)\n",
    "class_to_explain = top_pred_classes[0]\n",
    "simpler_model = LinearRegression()\n",
    "simpler_model.fit(X=perturbations, y=predictions[:,:,class_to_explain], sample_weight=weights)\n",
    "coeff = simpler_model.coef_[0]\n",
    "coeff"
   ]
  },
  {
   "cell_type": "code",
   "execution_count": 105,
   "metadata": {},
   "outputs": [
    {
     "data": {
      "text/plain": [
       "array([77, 34, 45, 18, 47, 44])"
      ]
     },
     "execution_count": 105,
     "metadata": {},
     "output_type": "execute_result"
    }
   ],
   "source": [
    "num_top_features = 6\n",
    "top_features = np.argsort(coeff)[-num_top_features:]\n",
    "top_features"
   ]
  },
  {
   "cell_type": "code",
   "execution_count": 181,
   "metadata": {},
   "outputs": [
    {
     "name": "stderr",
     "output_type": "stream",
     "text": [
      "/opt/anaconda3/lib/python3.11/site-packages/skimage/io/_plugins/matplotlib_plugin.py:149: UserWarning: Float image out of standard range; displaying image with stretched contrast.\n",
      "  lo, hi, cmap = _get_display_range(image)\n",
      "Clipping input data to the valid range for imshow with RGB data ([0..1] for floats or [0..255] for integers).\n"
     ]
    },
    {
     "data": {
      "text/plain": [
       "<matplotlib.image.AxesImage at 0x4eb1b1a10>"
      ]
     },
     "execution_count": 181,
     "metadata": {},
     "output_type": "execute_result"
    },
    {
     "data": {
      "image/png": "[encoded data removed]",
      "text/plain": [
       "<Figure size 640x480 with 2 Axes>"
      ]
     },
     "metadata": {},
     "output_type": "display_data"
    }
   ],
   "source": [
    "mask = np.zeros(num_superpixels)\n",
    "mask[top_features]= True #Activate top superpixels\n",
    "skimage.io.imshow(perturb_image(Xi_/0.5,mask,superpixels) )\n"
   ]
  },
  {
   "cell_type": "code",
   "execution_count": 110,
   "metadata": {},
   "outputs": [],
   "source": [
    "def load_and_preprocess_image(image_path):\n",
    "    img = tf.keras.preprocessing.image.load_img(image_path, target_size=(224, 224))\n",
    "    img_array = tf.keras.preprocessing.image.img_to_array(img)\n",
    "    img_array = np.expand_dims(img_array, axis=0)  # Add batch dimension\n",
    "    img_array = img_array / 255.0  # Normalize image\n",
    "    return img_array"
   ]
  },
  {
   "cell_type": "code",
   "execution_count": 114,
   "metadata": {},
   "outputs": [
    {
     "name": "stdout",
     "output_type": "stream",
     "text": [
      "Found 5712 images belonging to 4 classes.\n",
      "Found 1311 images belonging to 4 classes.\n"
     ]
    }
   ],
   "source": [
    "\n",
    "def get_train_data(train_generator):\n",
    "    x_train = []\n",
    "    y_train = []\n",
    "    for i in range(len(train_generator)):\n",
    "        x, y = train_generator[i]\n",
    "        x_train.extend(x)\n",
    "        y_train.extend(y)\n",
    "    return np.array(x_train), np.array(y_train)\n",
    "\n",
    "train_generator = preprocessing_for_training()\n",
    "validation_generator = preprocessing_for_testing_inference(32)\n",
    "\n",
    "# Get train data from generator\n",
    "x_train, y_train = get_train_data(train_generator)"
   ]
  },
  {
   "cell_type": "code",
   "execution_count": 115,
   "metadata": {},
   "outputs": [],
   "source": [
    "import numpy as np\n",
    "background = x_train[np.random.choice(x_train.shape[0], 100, replace=False)]"
   ]
  },
  {
   "cell_type": "code",
   "execution_count": 147,
   "metadata": {},
   "outputs": [],
   "source": [
    "import shap\n",
    "explainer = shap.GradientExplainer(model, background)"
   ]
  },
  {
   "cell_type": "code",
   "execution_count": 151,
   "metadata": {},
   "outputs": [],
   "source": [
    "explainer.__call__ = 1"
   ]
  },
  {
   "cell_type": "code",
   "execution_count": 173,
   "metadata": {},
   "outputs": [
    {
     "data": {
      "text/plain": [
       "array([[[[0., 0., 0.],\n",
       "         [0., 0., 0.],\n",
       "         [0., 0., 0.],\n",
       "         ...,\n",
       "         [0., 0., 0.],\n",
       "         [0., 0., 0.],\n",
       "         [0., 0., 0.]],\n",
       "\n",
       "        [[0., 0., 0.],\n",
       "         [0., 0., 0.],\n",
       "         [0., 0., 0.],\n",
       "         ...,\n",
       "         [0., 0., 0.],\n",
       "         [0., 0., 0.],\n",
       "         [0., 0., 0.]],\n",
       "\n",
       "        [[0., 0., 0.],\n",
       "         [0., 0., 0.],\n",
       "         [0., 0., 0.],\n",
       "         ...,\n",
       "         [0., 0., 0.],\n",
       "         [0., 0., 0.],\n",
       "         [0., 0., 0.]],\n",
       "\n",
       "        ...,\n",
       "\n",
       "        [[0., 0., 0.],\n",
       "         [0., 0., 0.],\n",
       "         [0., 0., 0.],\n",
       "         ...,\n",
       "         [0., 0., 0.],\n",
       "         [0., 0., 0.],\n",
       "         [0., 0., 0.]],\n",
       "\n",
       "        [[0., 0., 0.],\n",
       "         [0., 0., 0.],\n",
       "         [0., 0., 0.],\n",
       "         ...,\n",
       "         [0., 0., 0.],\n",
       "         [0., 0., 0.],\n",
       "         [0., 0., 0.]],\n",
       "\n",
       "        [[0., 0., 0.],\n",
       "         [0., 0., 0.],\n",
       "         [0., 0., 0.],\n",
       "         ...,\n",
       "         [0., 0., 0.],\n",
       "         [0., 0., 0.],\n",
       "         [0., 0., 0.]]]], dtype=float32)"
      ]
     },
     "execution_count": 173,
     "metadata": {},
     "output_type": "execute_result"
    }
   ],
   "source": [
    "Xi[:]"
   ]
  },
  {
   "cell_type": "code",
   "execution_count": 166,
   "metadata": {},
   "outputs": [
    {
     "name": "stdout",
     "output_type": "stream",
     "text": [
      "WARNING:tensorflow:From /opt/anaconda3/lib/python3.11/site-packages/tensorflow/python/compat/v2_compat.py:98: disable_resource_variables (from tensorflow.python.ops.resource_variables_toggle) is deprecated and will be removed in a future version.\n",
      "Instructions for updating:\n",
      "non-resource variables are not supported in the long term\n"
     ]
    }
   ],
   "source": [
    "tf.compat.v1.disable_v2_behavior()"
   ]
  },
  {
   "cell_type": "code",
   "execution_count": 174,
   "metadata": {},
   "outputs": [
    {
     "ename": "AttributeError",
     "evalue": "'numpy.ndarray' object has no attribute 'values'",
     "output_type": "error",
     "traceback": [
      "\u001b[0;31m---------------------------------------------------------------------------\u001b[0m",
      "\u001b[0;31mAttributeError\u001b[0m                            Traceback (most recent call last)",
      "Cell \u001b[0;32mIn[174], line 3\u001b[0m\n\u001b[1;32m      1\u001b[0m \u001b[38;5;66;03m#tf.keras.backend.set_learning_phase(0)\u001b[39;00m\n\u001b[0;32m----> 3\u001b[0m shap_values \u001b[38;5;241m=\u001b[39m explainer\u001b[38;5;241m.\u001b[39mshap_values(Xi[:]\u001b[38;5;241m.\u001b[39mvalues)\n\u001b[1;32m      4\u001b[0m shap\u001b[38;5;241m.\u001b[39mimage_plot(shap_values, (Xi \u001b[38;5;241m-\u001b[39m \u001b[38;5;241m0.5\u001b[39m) \u001b[38;5;241m*\u001b[39m \u001b[38;5;241m2\u001b[39m )\n\u001b[1;32m      5\u001b[0m plt\u001b[38;5;241m.\u001b[39mshow()\n",
      "\u001b[0;31mAttributeError\u001b[0m: 'numpy.ndarray' object has no attribute 'values'"
     ]
    }
   ],
   "source": [
    "#tf.keras.backend.set_learning_phase(0)\n",
    "\n",
    "shap_values = explainer.shap_values(Xi[:].values)\n",
    "shap.image_plot(shap_values, (Xi - 0.5) * 2 )\n",
    "plt.show()"
   ]
  },
  {
   "cell_type": "code",
   "execution_count": 193,
   "metadata": {},
   "outputs": [
    {
     "data": {
      "text/plain": [
       "<Experiment: artifact_location='gs://ml-flow-remote-tracker-bucket/1', creation_time=1717105063856, experiment_id='1', last_update_time=1717105063856, lifecycle_stage='active', name='Brain-Tumor-Classification', tags={}>"
      ]
     },
     "execution_count": 193,
     "metadata": {},
     "output_type": "execute_result"
    }
   ],
   "source": [
    "os.environ['GOOGLE_APPLICATION_CREDENTIALS'] = keyfile_path\n",
    "os.environ['MLFLOW_GCS_BUCKET'] = 'ml-flow-remote-tracker-bucket'\n",
    "\n",
    "mlflow.set_tracking_uri(\"http://35.231.231.140:5000/\")\n",
    "mlflow.set_experiment(\"Brain-Tumor-Classification\")"
   ]
  },
  {
   "cell_type": "code",
   "execution_count": 203,
   "metadata": {},
   "outputs": [
    {
     "name": "stderr",
     "output_type": "stream",
     "text": [
      "/var/folders/7_/9w2s326d5cx3n3gsd9wtv04h0000gn/T/ipykernel_46332/3100417678.py:3: FutureWarning: ``mlflow.tracking.client.MlflowClient.get_latest_versions`` is deprecated since 2.9.0. Model registry stages will be removed in a future major release. To learn more about the deprecation of model registry stages, see our migration guide here: https://mlflow.org/docs/2.13.2/model-registry.html#migrating-from-stages\n",
      "  model_metadata = client.get_latest_versions('Main', stages=[\"Staging\"])\n"
     ]
    }
   ],
   "source": [
    "from mlflow import MlflowClient\n",
    "client = MlflowClient()\n",
    "model_metadata = client.get_latest_versions('Main', stages=[\"Staging\"])\n",
    "l = model_metadata[0]"
   ]
  },
  {
   "cell_type": "code",
   "execution_count": 205,
   "metadata": {},
   "outputs": [
    {
     "name": "stdout",
     "output_type": "stream",
     "text": [
      "runs:/33047b43cbe9447e94972cd460d768da/Brain_Tumor_Classification_Model\n"
     ]
    }
   ],
   "source": [
    "print(f'runs:/{l.run_id}/Brain_Tumor_Classification_Model')"
   ]
  }
 ],
 "metadata": {
  "kernelspec": {
   "display_name": "Python 3",
   "language": "python",
   "name": "python3"
  },
  "language_info": {
   "codemirror_mode": {
    "name": "ipython",
    "version": 3
   },
   "file_extension": ".py",
   "mimetype": "text/x-python",
   "name": "python",
   "nbconvert_exporter": "python",
   "pygments_lexer": "ipython3",
   "version": "3.11.7"
  }
 },
 "nbformat": 4,
 "nbformat_minor": 2
}
